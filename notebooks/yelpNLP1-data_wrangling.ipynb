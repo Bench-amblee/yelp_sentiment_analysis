{
 "cells": [
  {
   "cell_type": "markdown",
   "metadata": {},
   "source": [
    "# Sentiment Analysis of Yelp Reviews - Data Wrangling"
   ]
  },
  {
   "cell_type": "markdown",
   "metadata": {},
   "source": [
    "#### Prepared By: Ben Chamblee"
   ]
  },
  {
   "cell_type": "markdown",
   "metadata": {},
   "source": [
    "## Contents"
   ]
  },
  {
   "cell_type": "markdown",
   "metadata": {},
   "source": [
    "* [Introduction](#Introduction)  \n",
    "* [Scraping HTML from Yelp URL](#Scraping_HTML_from_Yelp_URL)\n",
    "* [Yelp API](#Yelp_API)\n",
    "* [Getting the Data](#Getting_the_Data)\n",
    "* [Proving Zipf's Law](#Zipf)\n",
    "* [Stemming and Lemmatization](#Stem_and_Lem)"
   ]
  },
  {
   "cell_type": "markdown",
   "metadata": {},
   "source": [
    "## Introduction"
   ]
  },
  {
   "cell_type": "markdown",
   "metadata": {},
   "source": [
    "The goal for this project is to use a combination of Natural Language Processing and web scraping to interpret and collect review data from locations on Yelp. Once we have this data we can analyze it and determine the sentiment of any location based on the text of their reviews.\n",
    "\n",
    "This notebook is centered around the collecting asepct of the project. We'll be using a variety of unique libraries and techniuqes to get data from Yelp."
   ]
  },
  {
   "cell_type": "markdown",
   "metadata": {},
   "source": [
    "## Imports"
   ]
  },
  {
   "cell_type": "code",
   "execution_count": 2,
   "metadata": {},
   "outputs": [],
   "source": [
    "import pandas as pd\n",
    "import numpy as np\n",
    "import matplotlib.pyplot as plt"
   ]
  },
  {
   "cell_type": "markdown",
   "metadata": {},
   "source": [
    "## Objectives"
   ]
  },
  {
   "cell_type": "markdown",
   "metadata": {},
   "source": [
    "- Successfully collect data from one location on Yelp\n",
    "- Determine a method of applying this data collection to a larger scale\n",
    "- Transform the data so that it's usable in future notebooks, as a csv or excel file\n",
    "- Make sure the data is cleaned and ready to use"
   ]
  },
  {
   "cell_type": "markdown",
   "metadata": {},
   "source": [
    "## Scraping HTML from Yelp URL<a id='Scraping_HTML_from_Yelp_URL'></a>"
   ]
  },
  {
   "cell_type": "code",
   "execution_count": 9,
   "metadata": {},
   "outputs": [],
   "source": [
    "# test with one url, a starbucks in new york\n",
    "\n",
    "url1 = 'https://www.yelp.com/biz/starbucks-new-york'\n",
    "\n",
    "url = 'https://www.yelp.com/biz/starbucks-new-york-415'"
   ]
  },
  {
   "cell_type": "code",
   "execution_count": 3,
   "metadata": {},
   "outputs": [],
   "source": [
    "# we need a proxy so that our IP doesn't get banned from yelp \n",
    "\n",
    "from lxml.html import fromstring\n",
    "import urllib.request\n",
    "import requests\n",
    "\n",
    "def get_proxies():\n",
    "    url = 'https://free-proxy-list.net/'\n",
    "    response = requests.get(url)\n",
    "    parser = fromstring(response.text)\n",
    "    proxies = set()\n",
    "    for i in parser.xpath('//tbody/tr')[:10]:\n",
    "        if i.xpath('.//td[7][contains(text(),\"yes\")]'):\n",
    "        #Grabbing IP and corresponding PORT\n",
    "            proxy = \":\".join([i.xpath('.//td[1]/text()')[0], i.xpath('.//td[2]/text()')[0]])\n",
    "            proxies.add(proxy)\n",
    "    return proxies"
   ]
  },
  {
   "cell_type": "code",
   "execution_count": 4,
   "metadata": {},
   "outputs": [
    {
     "data": {
      "text/plain": [
       "{'158.51.109.34:26019',\n",
       " '159.89.221.73:3128',\n",
       " '160.16.206.132:3128',\n",
       " '161.202.226.194:80',\n",
       " '163.172.221.209:443',\n",
       " '165.22.64.68:40402',\n",
       " '182.72.150.242:8080',\n",
       " '81.252.192.166:80'}"
      ]
     },
     "execution_count": 4,
     "metadata": {},
     "output_type": "execute_result"
    }
   ],
   "source": [
    "proxies = get_proxies()\n",
    "proxies"
   ]
  },
  {
   "cell_type": "code",
   "execution_count": 5,
   "metadata": {
    "scrolled": false
   },
   "outputs": [],
   "source": [
    "# first we need to load the url, then scrape the html using BeautifulSoup\n",
    "import urllib.request\n",
    "from bs4 import BeautifulSoup\n",
    "\n",
    "url = 'https://www.yelp.com/biz/starbucks-new-york'\n",
    "\n",
    "from bs4 import BeautifulSoup, SoupStrainer\n",
    "\n",
    "proxy = urllib.request.ProxyHandler({'https': proxies})\n",
    "opener = urllib.request.build_opener()\n",
    "website = opener.open(url)\n",
    "\n",
    "html = website.read()\n",
    "soup = BeautifulSoup(html, \"html.parser\")"
   ]
  },
  {
   "cell_type": "code",
   "execution_count": 7,
   "metadata": {},
   "outputs": [],
   "source": [
    "# after inspecting the webpage html, we know exactly which elements contain the review text\n",
    "\n",
    "review=[]\n",
    "for i in soup.find_all('div',{'class':\"margin-b2__373c0__abANL border-color--default__373c0__2oFDT\"}):\n",
    "    per_review = i.find_all('span',{'class':\"raw__373c0__3rcx7\"})\n",
    "    review.append(per_review)"
   ]
  },
  {
   "cell_type": "code",
   "execution_count": 8,
   "metadata": {},
   "outputs": [
    {
     "data": {
      "text/plain": [
       "[[],\n",
       " [],\n",
       " [],\n",
       " [<span class=\"raw__373c0__3rcx7\" lang=\"en\">Small location with limited seating, but 80's new wave playing and friendly baristas. <br/><br/>I dropped in for an iced coffee after my workout at the NYSC next door. <br/><br/>Not much else to say. Pretty standard 'bucks menu. Got my drink quickly. Not much seating in this one. Large communal table smack in the middle, and some window seating all crowded up with wifi hogs at every seat.<br/><br/>Basically a grab and go location to me. All good and A-OK.</span>],\n",
       " [<span class=\"raw__373c0__3rcx7\" lang=\"en\">The larger Starbucks on 93rd &amp; B'way closed permanently and this one was completely renovated to take out all the seating. So if I want a place to chill with a cup of coffee I will now have to go to the Dunkin with the loud music and crap ambiance. <br/><br/>Crosstown there's a plethora of quaint, cozy non-chain coffee shops with infinitely better coffee. There's a Starbucks on Madison with fantastic banquet seating. I have yet to find a similar quality place within walking distance from me, and now even the mediocre spots are gone. Every day I'm more and more disappointed with the UWS. And I know I'm taking it out on this Starbucks, but when you remove everything that makes a coffee shop a shop I might might as well get my coffee from the cart on the corner and sit on the median breathing in car exhaust. <br/><br/>And closing at 8pm is just icing on that crap cake. If every Starbucks closed I wouldn't miss them.</span>],\n",
       " [],\n",
       " [<span class=\"raw__373c0__3rcx7\" lang=\"en\">This looks like a macchiato. If i wasn't in a rush and didn't already ask for one drink to be remade this would've been remade as well . This is supposed to be a caramel frappe crunch . Every-time i come to this Starbucks the star goes down . This is a blended drink but it seems all the ingredients were just thrown in the cup . Drinking frozen coconut milk until my straw can reach the caramel ‍</span>],\n",
       " [<span class=\"raw__373c0__3rcx7\" lang=\"en\">Just another typical Starbucks on the block. There's window seating on high stools and then a big wooden table if you don't enjoy sitting on high stools to get some work done or to just relax and enjoy your drink. Service is pretty standard and so far no mistakes!</span>],\n",
       " [<span class=\"raw__373c0__3rcx7\" lang=\"en\">Slowest Starbucks ever, every time I request something they don't do it. So many times I've requested no sugar and it come full of sugar. I won't be coming to this location anymore.</span>],\n",
       " [],\n",
       " [<span class=\"raw__373c0__3rcx7\" lang=\"en\">The service here is so above what you expect that I was actually shocked. The Team here works together which means that you never suffer as a customer when a staff member drops the ball.<br/><br/>The line is consistently moving, which is great because the register area is quite small. However, the diminutive space near the register is so, in order to make maximum space for seating.  The signature floor-to-ceiling windows are supported by bench windowsills which double as seats--smart!<br/><br/>Bathrooms are clean, as is the rest of the store,  and the drinks are great. I ordered the special roasted butterscotch latte with a little whipped cream and that is exactly what was served. Of utmost importance: my name was spelled perfectly! Service was friendly, welcoming, respectful and best of all efficient.  I can see how and why they stay in business.</span>],\n",
       " [<span class=\"raw__373c0__3rcx7\" lang=\"en\">This Starbucks is way too congested. The space here is incredibly small.  <br/><br/>The set up is not very useful considering the limited space. Upon entrance, you'll notice that there is a single large, very wide, table in the center of the Starbucks. Typically you'll find small tables where people can enjoy their coffee privately, but here it is more of a boardroom setup where strangers sit side by side. It is probably best to grab and go.<br/><br/>The staff here are kind and they serve a good frappacino.</span>],\n",
       " [],\n",
       " [<span class=\"raw__373c0__3rcx7\" lang=\"en\">Love this location.  They're always very friendly and FAST!  As for seating,they use the space pretty efficiently.  One huge table in the middle of the room and a handful of window seats, as well.  <br/><br/>Their bathroom is always fairly clean, and I've seen them cleaning the space pretty frequently, as well.  Being on the Upper West Side is great.  Lots of fun conversations to overhear.  <br/><br/>Last thing, love their beverages and the consistency you get at Starbucks.</span>],\n",
       " [],\n",
       " [<span class=\"raw__373c0__3rcx7\" lang=\"en\">I am not a fan of the big guy who makes the drinks. He doesn't wear gloves and he talks too much. I also saw him taking shots of different things while he was making the drinks for people. He couldn't even decipher the different starbucks abbreviations for the drinks he was making. The counter people are nice and very efficent. They were also helping him out by preparing all of the cups for him which he also did not realize. Everything was a discussion. Just do your job dude! There was a hold up because this guy was a chatterbox. I am glad that I didn't get sick from the drink I got which was the caramel flan frappucino. Tasted like artificial caramel though kind of like those too sweet caramel werther candies. I am not a regular coffee drinker but even if I was I don't think that I would come here that often because of the guy who makes the coffee,<br/><br/>I got my $1 reusable plastic cup from here which gives you .10 cents off every time you use it at the store but the lids are very hard to snap back in. I use it as a cup for the office to make tea and with the tea bag the top is very tight and makes it very hard to squeeze back on which is a potential hazard if you have hot liquid inside. I did notice that they now offer cake pops from la boulangerie and a bunch of other pastries but they look very small. There are many other starbucks you can go to besides this one in a 3 block radius. This one is not that great.</span>],\n",
       " [<span class=\"raw__373c0__3rcx7\" lang=\"en\">They need to hire more people or something, especially during rush hour. What's the point of mobile orders if I still have to wait in line like everyone else who didn't use it... I know it gets busy during commute hours but this happened way too many times and made me miss my trains to work. Having only 2 workers (1 at the cashier and 1 making the drinks) obviously is not effective when there are lines out the door</span>],\n",
       " [],\n",
       " [],\n",
       " [],\n",
       " []]"
      ]
     },
     "execution_count": 8,
     "metadata": {},
     "output_type": "execute_result"
    }
   ],
   "source": [
    "review"
   ]
  },
  {
   "cell_type": "code",
   "execution_count": 9,
   "metadata": {},
   "outputs": [],
   "source": [
    "# this is pretty messy, let's apply a filter and remove some html tags to clean it up\n",
    "\n",
    "new_review = list(filter(None, review))\n",
    "\n",
    "reviews_clean = []\n",
    "for i in new_review:\n",
    "    new_i = str(i).replace('<span class=\"raw__373c0__3rcx7\" lang=\"en\">','')\n",
    "    new_i = new_i.replace('</span>','')\n",
    "    new_i = new_i.replace('<br/>','')\n",
    "    new_i = new_i.replace('<br>','')\n",
    "    new_i = new_i.replace('[','')\n",
    "    new_i = new_i.replace(']','')\n",
    "    new_i = new_i.replace('\\xa0','')\n",
    "    new_i = new_i.replace('\\'','')\n",
    "    \n",
    "    reviews_clean.append(new_i)"
   ]
  },
  {
   "cell_type": "code",
   "execution_count": 10,
   "metadata": {},
   "outputs": [
    {
     "data": {
      "text/plain": [
       "['Small location with limited seating, but 80s new wave playing and friendly baristas. I dropped in for an iced coffee after my workout at the NYSC next door. Not much else to say. Pretty standard bucks menu. Got my drink quickly. Not much seating in this one. Large communal table smack in the middle, and some window seating all crowded up with wifi hogs at every seat.Basically a grab and go location to me. All good and A-OK.',\n",
       " 'The larger Starbucks on 93rd &amp; Bway closed permanently and this one was completely renovated to take out all the seating. So if I want a place to chill with a cup of coffee I will now have to go to the Dunkin with the loud music and crap ambiance. Crosstown theres a plethora of quaint, cozy non-chain coffee shops with infinitely better coffee. Theres a Starbucks on Madison with fantastic banquet seating. I have yet to find a similar quality place within walking distance from me, and now even the mediocre spots are gone. Every day Im more and more disappointed with the UWS. And I know Im taking it out on this Starbucks, but when you remove everything that makes a coffee shop a shop I might might as well get my coffee from the cart on the corner and sit on the median breathing in car exhaust. And closing at 8pm is just icing on that crap cake. If every Starbucks closed I wouldnt miss them.',\n",
       " 'This looks like a macchiato. If i wasnt in a rush and didnt already ask for one drink to be remade this wouldve been remade as well . This is supposed to be a caramel frappe crunch . Every-time i come to this Starbucks the star goes down . This is a blended drink but it seems all the ingredients were just thrown in the cup . Drinking frozen coconut milk until my straw can reach the caramel \\u200d',\n",
       " 'Just another typical Starbucks on the block. Theres window seating on high stools and then a big wooden table if you dont enjoy sitting on high stools to get some work done or to just relax and enjoy your drink. Service is pretty standard and so far no mistakes!',\n",
       " 'Slowest Starbucks ever, every time I request something they dont do it. So many times Ive requested no sugar and it come full of sugar. I wont be coming to this location anymore.',\n",
       " 'The service here is so above what you expect that I was actually shocked. The Team here works together which means that you never suffer as a customer when a staff member drops the ball.The line is consistently moving, which is great because the register area is quite small. However, the diminutive space near the register is so, in order to make maximum space for seating. The signature floor-to-ceiling windows are supported by bench windowsills which double as seats--smart!Bathrooms are clean, as is the rest of the store, and the drinks are great. I ordered the special roasted butterscotch latte with a little whipped cream and that is exactly what was served. Of utmost importance: my name was spelled perfectly! Service was friendly, welcoming, respectful and best of all efficient. I can see how and why they stay in business.',\n",
       " 'This Starbucks is way too congested. The space here is incredibly small. The set up is not very useful considering the limited space. Upon entrance, youll notice that there is a single large, very wide, table in the center of the Starbucks. Typically youll find small tables where people can enjoy their coffee privately, but here it is more of a boardroom setup where strangers sit side by side. It is probably best to grab and go.The staff here are kind and they serve a good frappacino.',\n",
       " 'Love this location. Theyre always very friendly and FAST! As for seating,they use the space pretty efficiently. One huge table in the middle of the room and a handful of window seats, as well. Their bathroom is always fairly clean, and Ive seen them cleaning the space pretty frequently, as well. Being on the Upper West Side is great. Lots of fun conversations to overhear. Last thing, love their beverages and the consistency you get at Starbucks.',\n",
       " 'I am not a fan of the big guy who makes the drinks. He doesnt wear gloves and he talks too much. I also saw him taking shots of different things while he was making the drinks for people. He couldnt even decipher the different starbucks abbreviations for the drinks he was making. The counter people are nice and very efficent. They were also helping him out by preparing all of the cups for him which he also did not realize. Everything was a discussion. Just do your job dude! There was a hold up because this guy was a chatterbox. I am glad that I didnt get sick from the drink I got which was the caramel flan frappucino. Tasted like artificial caramel though kind of like those too sweet caramel werther candies. I am not a regular coffee drinker but even if I was I dont think that I would come here that often because of the guy who makes the coffee,I got my $1 reusable plastic cup from here which gives you .10 cents off every time you use it at the store but the lids are very hard to snap back in. I use it as a cup for the office to make tea and with the tea bag the top is very tight and makes it very hard to squeeze back on which is a potential hazard if you have hot liquid inside. I did notice that they now offer cake pops from la boulangerie and a bunch of other pastries but they look very small. There are many other starbucks you can go to besides this one in a 3 block radius. This one is not that great.',\n",
       " 'They need to hire more people or something, especially during rush hour. Whats the point of mobile orders if I still have to wait in line like everyone else who didnt use it... I know it gets busy during commute hours but this happened way too many times and made me miss my trains to work. Having only 2 workers (1 at the cashier and 1 making the drinks) obviously is not effective when there are lines out the door']"
      ]
     },
     "execution_count": 10,
     "metadata": {},
     "output_type": "execute_result"
    }
   ],
   "source": [
    "reviews_clean"
   ]
  },
  {
   "cell_type": "markdown",
   "metadata": {},
   "source": [
    "Looks good! Now let's see if we can use this method to collect data on, 1000 locations in NYC? First we'll need to find the 1000 restaurant names in NYC, for that we turn to NYC Open Data!"
   ]
  },
  {
   "cell_type": "code",
   "execution_count": 11,
   "metadata": {},
   "outputs": [
    {
     "data": {
      "text/plain": [
       "'DJ REYNOLDS PUB AND RESTAURANT'"
      ]
     },
     "execution_count": 11,
     "metadata": {},
     "output_type": "execute_result"
    }
   ],
   "source": [
    "import requests\n",
    "import json\n",
    "\n",
    "nyc_list = 'https://data.cityofnewyork.us/resource/59dk-tdhz.json'\n",
    "session = requests.Session()\n",
    "session.mount('http://', requests.adapters.HTTPAdapter(max_retries=3))\n",
    "raw_data = session.get(nyc_list)\n",
    "nyc_data = raw_data.json()\n",
    "\n",
    "restaurant_names= []\n",
    "\n",
    "for i in range(1000):\n",
    "    name = nyc_data[i]['dba']\n",
    "    restaurant_names.append(name)\n",
    "\n",
    "# test\n",
    "restaurant_names[2]"
   ]
  },
  {
   "cell_type": "markdown",
   "metadata": {},
   "source": [
    "## Yelp API<a id='Yelp_API'></a>"
   ]
  },
  {
   "cell_type": "markdown",
   "metadata": {},
   "source": [
    "In order to convert business names to valid Yelp urls that we can scrape, we need to use Yelp's API which can be found at: \n",
    "https://www.yelp.com/fusion"
   ]
  },
  {
   "cell_type": "code",
   "execution_count": 12,
   "metadata": {},
   "outputs": [],
   "source": [
    "# HIDE THIS BEFORE YOU PUBLISH\n",
    "\n",
    "    api_key='HV6uMLD80NH9yV9B-c7QC_SrfnL7vqmM-CF_dT5QBIB4EPjWnGfyJ3vd69fYAQbOR2wq0qcpulbeiIl3Fwa2yr2ckJWPszdhw6JEIDXxs9uTQ0Z_BNEBk0SfMp-uYHYx'\n",
    "    headers = {'Authorization': 'Bearer %s' % api_key}\n",
    "\n",
    "# this is the url that yelp with search to find a valid business url\n",
    "search_url='https://api.yelp.com/v3/businesses/search'\n",
    " \n",
    "# in the dictionary, term can take values like food, cafes or businesses\n",
    "# lets test with the location we just found from the NYC database\n",
    "params = {'term':restaurant_names[2],'location':'New York City'}"
   ]
  },
  {
   "cell_type": "code",
   "execution_count": 13,
   "metadata": {},
   "outputs": [
    {
     "name": "stdout",
     "output_type": "stream",
     "text": [
      "The status code is 200\n"
     ]
    }
   ],
   "source": [
    "req=requests.get(search_url, params=params, headers=headers)\n",
    " \n",
    "# proceed only if the status code is 200\n",
    "print('The status code is {}'.format(req.status_code))"
   ]
  },
  {
   "cell_type": "code",
   "execution_count": 14,
   "metadata": {},
   "outputs": [
    {
     "data": {
      "text/plain": [
       "list"
      ]
     },
     "execution_count": 14,
     "metadata": {},
     "output_type": "execute_result"
    }
   ],
   "source": [
    "restaurant_2 = json.loads(req.text)\n",
    "\n",
    "type(restaurant_2['businesses'])"
   ]
  },
  {
   "cell_type": "markdown",
   "metadata": {},
   "source": [
    "Now we can add the alias, in this case 'd-j-reynolds-new-york-5' to the end of our parent url 'https://www.yelp.com/biz/' to get a valid url for this location"
   ]
  },
  {
   "cell_type": "markdown",
   "metadata": {},
   "source": [
    "from here the process is just like before, use the url to scrape the html then find all the reviews and clean it up like above, lets write a function that does this for all 1000 locations"
   ]
  },
  {
   "cell_type": "markdown",
   "metadata": {},
   "source": [
    "the only other step we need to add is to load more pages so we can get more than 10 reviews per location"
   ]
  },
  {
   "cell_type": "markdown",
   "metadata": {},
   "source": [
    "## Getting the Data<a id='Getting_the_Data'></a>"
   ]
  },
  {
   "cell_type": "code",
   "execution_count": 15,
   "metadata": {},
   "outputs": [],
   "source": [
    "import time\n",
    "import random\n",
    "import pyautogui\n",
    "\n",
    "\n",
    "def yelp_web_scraper(locations):\n",
    "    \n",
    "    # This function creates a dataframe and several lists to add to the dataframe, the output will be the dataframe\n",
    "    \n",
    "    yelp_data = pd.DataFrame()\n",
    "    alias_list = []\n",
    "    name_list = []\n",
    "    rating_list = []\n",
    "    price_list = []\n",
    "    city_list = []\n",
    "    zip_code_list = []\n",
    "    address_list = []\n",
    "    review_list = []\n",
    "    total_reviews = []\n",
    "    \n",
    "    #convert business names to urls  \n",
    "    for location in locations:\n",
    "        sec = random.randint(10,15)\n",
    "        time.sleep(sec)\n",
    "        alias = ''\n",
    "        name = ''\n",
    "        rating = ''\n",
    "        price = ''\n",
    "        city = ''\n",
    "        zip_code = ''\n",
    "        address = ''\n",
    "        all_urls = []\n",
    "        all_reviews = []\n",
    "        \n",
    "        params = {'term':location,'location':'New York City'}\n",
    "\n",
    "        req=requests.get(search_url,params=params, headers=headers)\n",
    "        \n",
    "        if req.status_code != 200:\n",
    "            continue\n",
    "        \n",
    "        rest_data = json.loads(req.text)\n",
    "        \n",
    "        # not every location has these same parameters, so we need to check them all so we don't run into errors\n",
    "        \n",
    "        if 'businesses' in rest_data:\n",
    "        \n",
    "            if isinstance(rest_data['businesses'], list):\n",
    "        \n",
    "                if 'alias' in rest_data['businesses'][0]:\n",
    "                    alias = rest_data['businesses'][0]['alias']\n",
    "        \n",
    "                if 'name' in rest_data['businesses'][0]:\n",
    "                    name = rest_data['businesses'][0]['name']\n",
    "            \n",
    "                if 'rating' in rest_data['businesses'][0]:\n",
    "                    rating = rest_data['businesses'][0]['rating']\n",
    "            \n",
    "                if 'price' in rest_data['businesses'][0]:\n",
    "                    price = rest_data['businesses'][0]['price']\n",
    "        \n",
    "                if 'location' in rest_data['businesses'][0]:\n",
    "                    if 'city' in rest_data['businesses'][0]['location']:\n",
    "                        city = rest_data['businesses'][0]['location']['city']\n",
    "                    if 'zip_code' in rest_data['businesses'][0]['location']:\n",
    "                        zip_code = rest_data['businesses'][0]['location']['zip_code']\n",
    "                    if 'display_address' in rest_data['businesses'][0]['location']:\n",
    "                        address = rest_data['businesses'][0]['location']['display_address'][0]\n",
    "        \n",
    "        alias_list.append(alias)\n",
    "        name_list.append(name)\n",
    "        rating_list.append(rating)\n",
    "        price_list.append(price)\n",
    "        city_list.append(city)\n",
    "        zip_code_list.append(zip_code)\n",
    "        address_list.append(address)\n",
    "        \n",
    "        add_url = alias\n",
    "        parent_url = parent_url = 'https://www.yelp.com/biz/'\n",
    "        \n",
    "        url = parent_url + add_url\n",
    "        \n",
    "    #add more urls to get more reviews\n",
    "    \n",
    "            \n",
    "        #luckily we can just add one of these tags to the end of a url to load the next page of reviews\n",
    "        #most places seemed to have no more than 7 pages, so I decided to go with that as my max\n",
    "    \n",
    "        pages =['?start=10','?start=20','?start=30','?start=40','?start=50','?start=60']\n",
    "        page1 = url\n",
    "        page2 = url+pages[0]\n",
    "        page3 = url+pages[1]\n",
    "        page4 = url+pages[2]\n",
    "        page5 = url+pages[3]\n",
    "        page6 = url+pages[4]\n",
    "        page7 = url+pages[5]\n",
    "    \n",
    "        all_urls.append([page1,page2,page3,page4,page5,page6,page7])\n",
    "    \n",
    "    #scrape all urls\n",
    "    #in order to not be labeled as a robot, we need to appear more human by waitng a random amount of time\n",
    "    #and move our mouse around\n",
    "    \n",
    "        for index in range(len(all_urls[0])):\n",
    "            sec2 = random.randint(5,10)\n",
    "            mouse_sec = random.randint(1,2)\n",
    "            mouse_coords = random.randint(100,800)\n",
    "            time.sleep(sec2)\n",
    "            pyautogui.moveTo(mouse_coords*2, mouse_coords, duration = mouse_sec)\n",
    "            \n",
    "            url = all_urls[0][index]\n",
    "            url = url.encode('ascii', 'ignore').decode('ascii')\n",
    "            response = requests.get(url)\n",
    "            if response.status_code != 200: #could also check == requests.codes.ok\n",
    "                continue\n",
    "            re_text = response.text\n",
    "            soup = BeautifulSoup(re_text,'html.parser')\n",
    "            \n",
    "            review=[]\n",
    "            for i in soup.find_all('div',{'class':\"margin-b2__373c0__abANL border-color--default__373c0__2oFDT\"}):\n",
    "                per_review = i.find_all('span',{'class':\"raw__373c0__3rcx7\"})\n",
    "                review.append(per_review)\n",
    "            new_review = list(filter(None, review))\n",
    "        \n",
    "            reviews_clean = []\n",
    "            for x in new_review:\n",
    "                new_i = str(x).replace('<span class=\"raw__373c0__3rcx7\" lang=\"en\">','')\n",
    "                new_i = new_i.replace('<span class=\"raw__373c0__3rcx7\">','')\n",
    "                new_i = new_i.replace('</span>','')\n",
    "                new_i = new_i.replace('<br/>','')\n",
    "                new_i = new_i.replace('<br>','')\n",
    "                new_i = new_i.replace('[','')\n",
    "                new_i = new_i.replace(']','')\n",
    "                new_i = new_i.replace('\\xa0','')\n",
    "                new_i = new_i.replace('\\'','')\n",
    "    \n",
    "                reviews_clean.append(new_i)\n",
    "            for review in reviews_clean:\n",
    "                all_reviews.append(review)\n",
    "        \n",
    "        review_list.append(all_reviews)\n",
    "        total_reviews.append(len(all_reviews))\n",
    "    #add to a dataframe  \n",
    "        \n",
    "        \n",
    "        \n",
    "    yelp_data['alias'] = alias_list\n",
    "    yelp_data['name'] = name_list\n",
    "    yelp_data['rating'] = rating_list\n",
    "    yelp_data['price'] = price_list\n",
    "    yelp_data['city'] = city_list\n",
    "    yelp_data['zip_code'] = zip_code_list\n",
    "    yelp_data['address'] = address_list\n",
    "    yelp_data['reviews'] = review_list\n",
    "    yelp_data['total_reviews'] = total_reviews\n",
    " \n",
    "    return yelp_data"
   ]
  },
  {
   "cell_type": "markdown",
   "metadata": {},
   "source": [
    "To make sure our function works we're going to test it with the same location as above"
   ]
  },
  {
   "cell_type": "code",
   "execution_count": 77,
   "metadata": {},
   "outputs": [],
   "source": [
    "test_list = []\n",
    "test_list.append(restaurant_names[1])"
   ]
  },
  {
   "cell_type": "code",
   "execution_count": 82,
   "metadata": {},
   "outputs": [],
   "source": [
    "testData = yelp_web_scraper(test_list)"
   ]
  },
  {
   "cell_type": "code",
   "execution_count": 83,
   "metadata": {},
   "outputs": [
    {
     "data": {
      "text/html": [
       "<div>\n",
       "<style scoped>\n",
       "    .dataframe tbody tr th:only-of-type {\n",
       "        vertical-align: middle;\n",
       "    }\n",
       "\n",
       "    .dataframe tbody tr th {\n",
       "        vertical-align: top;\n",
       "    }\n",
       "\n",
       "    .dataframe thead th {\n",
       "        text-align: right;\n",
       "    }\n",
       "</style>\n",
       "<table border=\"1\" class=\"dataframe\">\n",
       "  <thead>\n",
       "    <tr style=\"text-align: right;\">\n",
       "      <th></th>\n",
       "      <th>alias</th>\n",
       "      <th>name</th>\n",
       "      <th>rating</th>\n",
       "      <th>price</th>\n",
       "      <th>city</th>\n",
       "      <th>zip_code</th>\n",
       "      <th>address</th>\n",
       "      <th>reviews</th>\n",
       "      <th>total_reviews</th>\n",
       "    </tr>\n",
       "  </thead>\n",
       "  <tbody>\n",
       "    <tr>\n",
       "      <th>0</th>\n",
       "      <td>wendys-new-york-11</td>\n",
       "      <td>Wendy's</td>\n",
       "      <td>3.0</td>\n",
       "      <td>$</td>\n",
       "      <td>New York</td>\n",
       "      <td>10038</td>\n",
       "      <td>85 Nassau Street</td>\n",
       "      <td>[I will say that I have never had a problem wi...</td>\n",
       "      <td>70</td>\n",
       "    </tr>\n",
       "  </tbody>\n",
       "</table>\n",
       "</div>"
      ],
      "text/plain": [
       "                alias     name  rating price      city zip_code  \\\n",
       "0  wendys-new-york-11  Wendy's     3.0     $  New York    10038   \n",
       "\n",
       "            address                                            reviews  \\\n",
       "0  85 Nassau Street  [I will say that I have never had a problem wi...   \n",
       "\n",
       "   total_reviews  \n",
       "0             70  "
      ]
     },
     "execution_count": 83,
     "metadata": {},
     "output_type": "execute_result"
    }
   ],
   "source": [
    "testData"
   ]
  },
  {
   "cell_type": "markdown",
   "metadata": {},
   "source": [
    "Looks like it works, we have 70 reviews from this location and we can access each individual review like this:"
   ]
  },
  {
   "cell_type": "code",
   "execution_count": 52,
   "metadata": {},
   "outputs": [
    {
     "data": {
      "text/plain": [
       "'I ordered a large fries with spicy chicken burger. In the middle of eating, I noticed a stringy vein attached in the chicken! Is it even completely cooked?!?! As you see on the picture, I lightly pull onto it but still stuck inside the meat. I am disgusted and will never order here again!!'"
      ]
     },
     "execution_count": 52,
     "metadata": {},
     "output_type": "execute_result"
    }
   ],
   "source": [
    "testData['reviews'][0][15]"
   ]
  },
  {
   "cell_type": "markdown",
   "metadata": {},
   "source": [
    "Now we can apply this to our full list to get 10000 reviews"
   ]
  },
  {
   "cell_type": "code",
   "execution_count": 113,
   "metadata": {},
   "outputs": [],
   "source": [
    "#full_set\n",
    "\n",
    "restaurants = restaurant_list[0:270]\n",
    "yelp_data = yelp_web_scraper(restaurants)"
   ]
  },
  {
   "cell_type": "code",
   "execution_count": 98,
   "metadata": {},
   "outputs": [],
   "source": [
    "yelp_dataset = yelp_dataset.append(yelp_data)"
   ]
  },
  {
   "cell_type": "code",
   "execution_count": 97,
   "metadata": {},
   "outputs": [
    {
     "data": {
      "text/html": [
       "<div>\n",
       "<style scoped>\n",
       "    .dataframe tbody tr th:only-of-type {\n",
       "        vertical-align: middle;\n",
       "    }\n",
       "\n",
       "    .dataframe tbody tr th {\n",
       "        vertical-align: top;\n",
       "    }\n",
       "\n",
       "    .dataframe thead th {\n",
       "        text-align: right;\n",
       "    }\n",
       "</style>\n",
       "<table border=\"1\" class=\"dataframe\">\n",
       "  <thead>\n",
       "    <tr style=\"text-align: right;\">\n",
       "      <th></th>\n",
       "      <th>alias</th>\n",
       "      <th>name</th>\n",
       "      <th>rating</th>\n",
       "      <th>price</th>\n",
       "      <th>city</th>\n",
       "      <th>zip_code</th>\n",
       "      <th>address</th>\n",
       "      <th>reviews</th>\n",
       "      <th>total_reviews</th>\n",
       "    </tr>\n",
       "  </thead>\n",
       "  <tbody>\n",
       "    <tr>\n",
       "      <th>0</th>\n",
       "      <td>morris-park-bake-shop-bronx</td>\n",
       "      <td>Morris Park Bake Shop</td>\n",
       "      <td>4.5</td>\n",
       "      <td>$$</td>\n",
       "      <td>Bronx</td>\n",
       "      <td>10462</td>\n",
       "      <td>1007 Morris Park Ave</td>\n",
       "      <td>['The chocolate cups are amazing! Have been ea...</td>\n",
       "      <td>54</td>\n",
       "    </tr>\n",
       "    <tr>\n",
       "      <th>1</th>\n",
       "      <td>wendys-new-york-11</td>\n",
       "      <td>Wendy's</td>\n",
       "      <td>3.0</td>\n",
       "      <td>$</td>\n",
       "      <td>New York</td>\n",
       "      <td>10038</td>\n",
       "      <td>85 Nassau Street</td>\n",
       "      <td>['I will say that I have never had a problem w...</td>\n",
       "      <td>70</td>\n",
       "    </tr>\n",
       "    <tr>\n",
       "      <th>2</th>\n",
       "      <td>d-j-reynolds-new-york-5</td>\n",
       "      <td>D.J. Reynolds</td>\n",
       "      <td>3.5</td>\n",
       "      <td>$$</td>\n",
       "      <td>New York</td>\n",
       "      <td>10019</td>\n",
       "      <td>351 W 57th St</td>\n",
       "      <td>['Please note that the new hours are: Tuesday-...</td>\n",
       "      <td>60</td>\n",
       "    </tr>\n",
       "    <tr>\n",
       "      <th>3</th>\n",
       "      <td>riviera-caterers-brooklyn</td>\n",
       "      <td>Riviera Caterers</td>\n",
       "      <td>4.5</td>\n",
       "      <td>NaN</td>\n",
       "      <td>Brooklyn</td>\n",
       "      <td>11224</td>\n",
       "      <td>2780 Stillwell Ave</td>\n",
       "      <td>['Got a question about Riviera Caterers? Ask t...</td>\n",
       "      <td>58</td>\n",
       "    </tr>\n",
       "    <tr>\n",
       "      <th>4</th>\n",
       "      <td>wilkens-fine-foods-brooklyn-2</td>\n",
       "      <td>Wilkens Fine Foods</td>\n",
       "      <td>3.5</td>\n",
       "      <td>$$</td>\n",
       "      <td>Brooklyn</td>\n",
       "      <td>11234</td>\n",
       "      <td>7114 Ave U</td>\n",
       "      <td>['So inspite of the tiny issues im still leavi...</td>\n",
       "      <td>51</td>\n",
       "    </tr>\n",
       "  </tbody>\n",
       "</table>\n",
       "</div>"
      ],
      "text/plain": [
       "                           alias                   name  rating price  \\\n",
       "0    morris-park-bake-shop-bronx  Morris Park Bake Shop     4.5    $$   \n",
       "1             wendys-new-york-11                Wendy's     3.0     $   \n",
       "2        d-j-reynolds-new-york-5          D.J. Reynolds     3.5    $$   \n",
       "3      riviera-caterers-brooklyn       Riviera Caterers     4.5   NaN   \n",
       "4  wilkens-fine-foods-brooklyn-2     Wilkens Fine Foods     3.5    $$   \n",
       "\n",
       "       city  zip_code               address  \\\n",
       "0     Bronx     10462  1007 Morris Park Ave   \n",
       "1  New York     10038      85 Nassau Street   \n",
       "2  New York     10019         351 W 57th St   \n",
       "3  Brooklyn     11224    2780 Stillwell Ave   \n",
       "4  Brooklyn     11234            7114 Ave U   \n",
       "\n",
       "                                             reviews  total_reviews  \n",
       "0  ['The chocolate cups are amazing! Have been ea...             54  \n",
       "1  ['I will say that I have never had a problem w...             70  \n",
       "2  ['Please note that the new hours are: Tuesday-...             60  \n",
       "3  ['Got a question about Riviera Caterers? Ask t...             58  \n",
       "4  ['So inspite of the tiny issues im still leavi...             51  "
      ]
     },
     "execution_count": 97,
     "metadata": {},
     "output_type": "execute_result"
    }
   ],
   "source": [
    "yelp_dataset.head()"
   ]
  },
  {
   "cell_type": "markdown",
   "metadata": {},
   "source": [
    "Looks good! Now I'll make a seperate dataframe where each review is on a seperate row"
   ]
  },
  {
   "cell_type": "code",
   "execution_count": 68,
   "metadata": {},
   "outputs": [],
   "source": [
    "yelp_dataset_unpacked = pd.DataFrame()"
   ]
  },
  {
   "cell_type": "code",
   "execution_count": 76,
   "metadata": {},
   "outputs": [],
   "source": [
    "full_alias = []\n",
    "full_name = []\n",
    "full_rating = []\n",
    "full_price = []\n",
    "full_city = []\n",
    "full_zip = []\n",
    "full_address = []\n",
    "full_review = []\n",
    "\n",
    "\n",
    "for index, location in enumerate(yelp_dataset['alias']):\n",
    "    \n",
    "    alias = location\n",
    "    name = yelp_dataset[yelp_dataset['alias'] == location]['name'].values\n",
    "    rating = yelp_dataset[yelp_dataset['alias'] == location]['rating'].values\n",
    "    price = yelp_dataset[yelp_dataset['alias'] == location]['price'].values\n",
    "    city = yelp_dataset[yelp_dataset['alias'] == location]['city'].values\n",
    "    zip_code = yelp_dataset[yelp_dataset['alias'] == location]['zip_code'].values\n",
    "    address = yelp_dataset[yelp_dataset['alias'] == location]['address'].values\n",
    "    reviews = yelp_dataset[yelp_dataset['alias'] == location]['reviews'][index]\n",
    "    reviews = list(reviews.split(\"\\', \"))\n",
    "    \n",
    "    for review in reviews:\n",
    "        \n",
    "        full_alias.append(alias)\n",
    "        full_name.append(name[0])\n",
    "        full_rating.append(rating[0])\n",
    "        full_price.append(price[0])\n",
    "        full_city.append(city[0])\n",
    "        full_zip.append(zip_code[0])\n",
    "        full_address.append(address[0])\n",
    "        full_review.append(review)\n",
    "        \n",
    "yelp_dataset_unpacked['Alias'] = full_alias\n",
    "yelp_dataset_unpacked['Name'] = full_name\n",
    "yelp_dataset_unpacked['Rating'] = full_rating\n",
    "yelp_dataset_unpacked['Price'] = full_price\n",
    "yelp_dataset_unpacked['City'] = full_city\n",
    "yelp_dataset_unpacked['Zip_code'] = full_zip\n",
    "yelp_dataset_unpacked['Address'] = full_address\n",
    "yelp_dataset_unpacked['Review'] = full_review\n",
    "        "
   ]
  },
  {
   "cell_type": "markdown",
   "metadata": {},
   "source": [
    "The only thing left is to clean up the first and last reviews, this conversion left behind a few brackets so I'll filter those out now"
   ]
  },
  {
   "cell_type": "code",
   "execution_count": 87,
   "metadata": {},
   "outputs": [
    {
     "name": "stderr",
     "output_type": "stream",
     "text": [
      "C:\\Users\\Benja\\anaconda3\\lib\\site-packages\\ipykernel_launcher.py:3: SettingWithCopyWarning: \n",
      "A value is trying to be set on a copy of a slice from a DataFrame\n",
      "\n",
      "See the caveats in the documentation: https://pandas.pydata.org/pandas-docs/stable/user_guide/indexing.html#returning-a-view-versus-a-copy\n",
      "  This is separate from the ipykernel package so we can avoid doing imports until\n"
     ]
    }
   ],
   "source": [
    "for index, reviews in enumerate(yelp_dataset_unpacked['Review']):\n",
    "    new_i = str(reviews).replace('[','')\n",
    "    yelp_dataset_unpacked['Review'][index] = new_i"
   ]
  },
  {
   "cell_type": "code",
   "execution_count": 91,
   "metadata": {},
   "outputs": [
    {
     "name": "stderr",
     "output_type": "stream",
     "text": [
      "C:\\Users\\Benja\\anaconda3\\lib\\site-packages\\ipykernel_launcher.py:3: SettingWithCopyWarning: \n",
      "A value is trying to be set on a copy of a slice from a DataFrame\n",
      "\n",
      "See the caveats in the documentation: https://pandas.pydata.org/pandas-docs/stable/user_guide/indexing.html#returning-a-view-versus-a-copy\n",
      "  This is separate from the ipykernel package so we can avoid doing imports until\n"
     ]
    }
   ],
   "source": [
    "for index, reviews in enumerate(yelp_dataset_unpacked['Review']):\n",
    "    new_i = str(reviews).replace(']','')\n",
    "    yelp_dataset_unpacked['Review'][index] = new_i"
   ]
  },
  {
   "cell_type": "code",
   "execution_count": 96,
   "metadata": {},
   "outputs": [],
   "source": [
    "yelp_dataset_unpacked.to_csv(r'yelp_data.csv',index=False)"
   ]
  },
  {
   "cell_type": "code",
   "execution_count": 99,
   "metadata": {},
   "outputs": [
    {
     "data": {
      "text/html": [
       "<div>\n",
       "<style scoped>\n",
       "    .dataframe tbody tr th:only-of-type {\n",
       "        vertical-align: middle;\n",
       "    }\n",
       "\n",
       "    .dataframe tbody tr th {\n",
       "        vertical-align: top;\n",
       "    }\n",
       "\n",
       "    .dataframe thead th {\n",
       "        text-align: right;\n",
       "    }\n",
       "</style>\n",
       "<table border=\"1\" class=\"dataframe\">\n",
       "  <thead>\n",
       "    <tr style=\"text-align: right;\">\n",
       "      <th></th>\n",
       "      <th>Alias</th>\n",
       "      <th>Name</th>\n",
       "      <th>Rating</th>\n",
       "      <th>Price</th>\n",
       "      <th>City</th>\n",
       "      <th>Zip_code</th>\n",
       "      <th>Address</th>\n",
       "      <th>Review</th>\n",
       "    </tr>\n",
       "  </thead>\n",
       "  <tbody>\n",
       "    <tr>\n",
       "      <th>0</th>\n",
       "      <td>morris-park-bake-shop-bronx</td>\n",
       "      <td>Morris Park Bake Shop</td>\n",
       "      <td>4.5</td>\n",
       "      <td>$$</td>\n",
       "      <td>Bronx</td>\n",
       "      <td>10462</td>\n",
       "      <td>1007 Morris Park Ave</td>\n",
       "      <td>'The chocolate cups are amazing! Have been eat...</td>\n",
       "    </tr>\n",
       "    <tr>\n",
       "      <th>1</th>\n",
       "      <td>morris-park-bake-shop-bronx</td>\n",
       "      <td>Morris Park Bake Shop</td>\n",
       "      <td>4.5</td>\n",
       "      <td>$$</td>\n",
       "      <td>Bronx</td>\n",
       "      <td>10462</td>\n",
       "      <td>1007 Morris Park Ave</td>\n",
       "      <td>'Morris Park Bake Shop has become my go to spo...</td>\n",
       "    </tr>\n",
       "    <tr>\n",
       "      <th>2</th>\n",
       "      <td>morris-park-bake-shop-bronx</td>\n",
       "      <td>Morris Park Bake Shop</td>\n",
       "      <td>4.5</td>\n",
       "      <td>$$</td>\n",
       "      <td>Bronx</td>\n",
       "      <td>10462</td>\n",
       "      <td>1007 Morris Park Ave</td>\n",
       "      <td>'I thought the cookies and biscotti were prett...</td>\n",
       "    </tr>\n",
       "    <tr>\n",
       "      <th>3</th>\n",
       "      <td>morris-park-bake-shop-bronx</td>\n",
       "      <td>Morris Park Bake Shop</td>\n",
       "      <td>4.5</td>\n",
       "      <td>$$</td>\n",
       "      <td>Bronx</td>\n",
       "      <td>10462</td>\n",
       "      <td>1007 Morris Park Ave</td>\n",
       "      <td>'Guys.... so Im a big time biscotti connoisseu...</td>\n",
       "    </tr>\n",
       "    <tr>\n",
       "      <th>4</th>\n",
       "      <td>morris-park-bake-shop-bronx</td>\n",
       "      <td>Morris Park Bake Shop</td>\n",
       "      <td>4.5</td>\n",
       "      <td>$$</td>\n",
       "      <td>Bronx</td>\n",
       "      <td>10462</td>\n",
       "      <td>1007 Morris Park Ave</td>\n",
       "      <td>'I had a craving for a special type of cake wi...</td>\n",
       "    </tr>\n",
       "  </tbody>\n",
       "</table>\n",
       "</div>"
      ],
      "text/plain": [
       "                         Alias                   Name  Rating Price   City  \\\n",
       "0  morris-park-bake-shop-bronx  Morris Park Bake Shop     4.5    $$  Bronx   \n",
       "1  morris-park-bake-shop-bronx  Morris Park Bake Shop     4.5    $$  Bronx   \n",
       "2  morris-park-bake-shop-bronx  Morris Park Bake Shop     4.5    $$  Bronx   \n",
       "3  morris-park-bake-shop-bronx  Morris Park Bake Shop     4.5    $$  Bronx   \n",
       "4  morris-park-bake-shop-bronx  Morris Park Bake Shop     4.5    $$  Bronx   \n",
       "\n",
       "   Zip_code               Address  \\\n",
       "0     10462  1007 Morris Park Ave   \n",
       "1     10462  1007 Morris Park Ave   \n",
       "2     10462  1007 Morris Park Ave   \n",
       "3     10462  1007 Morris Park Ave   \n",
       "4     10462  1007 Morris Park Ave   \n",
       "\n",
       "                                              Review  \n",
       "0  'The chocolate cups are amazing! Have been eat...  \n",
       "1  'Morris Park Bake Shop has become my go to spo...  \n",
       "2  'I thought the cookies and biscotti were prett...  \n",
       "3  'Guys.... so Im a big time biscotti connoisseu...  \n",
       "4  'I had a craving for a special type of cake wi...  "
      ]
     },
     "execution_count": 99,
     "metadata": {},
     "output_type": "execute_result"
    }
   ],
   "source": [
    "yelp_dataset_unpacked.head()"
   ]
  },
  {
   "cell_type": "markdown",
   "metadata": {},
   "source": [
    "Now that we have all this data we can analyze it and start to determine the sentiment, but first I'd like to try something"
   ]
  },
  {
   "cell_type": "markdown",
   "metadata": {},
   "source": [
    "## Proving Zipf's Law<a id='Zipf'></a>"
   ]
  },
  {
   "cell_type": "markdown",
   "metadata": {},
   "source": [
    "If you're not familiar with Zipf's Law, it basically states that for a large sample of words, the frequency of any word follows an inversely proportional pattern to it's rank. The most common word, usually 'the' will appear twice as much as the second most common word and vice versa. Here's a visual representation:"
   ]
  },
  {
   "cell_type": "markdown",
   "metadata": {},
   "source": [
    "<img src=\"zipfs.jpg\" alt=\"Drawing\" align = \"left\" style=\"width: 450px;\"/>"
   ]
  },
  {
   "cell_type": "markdown",
   "metadata": {},
   "source": [
    "With over 10,000 reviews, we should be able to prove Zipf's law!"
   ]
  },
  {
   "cell_type": "markdown",
   "metadata": {},
   "source": [
    "First we need to find the counts of each word in a review"
   ]
  },
  {
   "cell_type": "code",
   "execution_count": 114,
   "metadata": {},
   "outputs": [
    {
     "data": {
      "text/plain": [
       "[('and', 4),\n",
       " ('a', 3),\n",
       " ('cake', 3),\n",
       " ('it', 3),\n",
       " ('had', 2),\n",
       " ('for', 2),\n",
       " ('layer', 2),\n",
       " ('this', 2),\n",
       " ('the', 2),\n",
       " ('bakery', 2)]"
      ]
     },
     "execution_count": 114,
     "metadata": {},
     "output_type": "execute_result"
    }
   ],
   "source": [
    "from collections import Counter\n",
    "import re\n",
    "\n",
    "rev1 = yelp_dataset_unpacked['Review'][4]\n",
    "\n",
    "words = re.findall(r'\\w+', rev1.lower())\n",
    "Counter(words).most_common(10)"
   ]
  },
  {
   "cell_type": "markdown",
   "metadata": {},
   "source": [
    "Then we can get a list of every word from every review"
   ]
  },
  {
   "cell_type": "code",
   "execution_count": 123,
   "metadata": {},
   "outputs": [],
   "source": [
    "all_words = []\n",
    "\n",
    "for review in yelp_dataset_unpacked['Review']:\n",
    "    words = re.findall(r'\\w+', review.lower())\n",
    "    for word in words:\n",
    "        all_words.append(word)"
   ]
  },
  {
   "cell_type": "code",
   "execution_count": 178,
   "metadata": {},
   "outputs": [],
   "source": [
    "# the picture above has 20 bars, so lets go with that for our chart as well\n",
    "zipf = Counter(all_words).most_common(20)"
   ]
  },
  {
   "cell_type": "code",
   "execution_count": 180,
   "metadata": {},
   "outputs": [
    {
     "data": {
      "image/png": "[encoded data removed]",
      "text/plain": [
       "<Figure size 864x576 with 1 Axes>"
      ]
     },
     "metadata": {
      "needs_background": "light"
     },
     "output_type": "display_data"
    }
   ],
   "source": [
    "x = pd.DataFrame(zipf, columns=['word','count']).set_index('word')\n",
    "plt.figure(figsize=(12,8)) \n",
    "plt.bar(x.index, x['count'])\n",
    "plt.plot(x['count'],color='red',linewidth=3)\n",
    "plt.title(\"Zipf's Law from NYC Yelp Reviews\");"
   ]
  },
  {
   "cell_type": "markdown",
   "metadata": {},
   "source": [
    "I think this is really interesting, especially because this chart and the example above both start with 'the' and end with 'they'"
   ]
  },
  {
   "cell_type": "markdown",
   "metadata": {},
   "source": [
    "## Conclusion"
   ]
  },
  {
   "cell_type": "markdown",
   "metadata": {},
   "source": [
    "Now that we've got our data, we need to trim it down into a more usable format. The next step in Exploratory analysis is to use tokenization and stemming to get a better idea of what the actual meaning behind each review is. Once you remove common, or stop words like 'the' 'and' 'to' and all those, you can really get an idea of what each review is saying. We'll handle that part next!"
   ]
  }
 ],
 "metadata": {
  "kernelspec": {
   "display_name": "Python 3",
   "language": "python",
   "name": "python3"
  },
  "language_info": {
   "codemirror_mode": {
    "name": "ipython",
    "version": 3
   },
   "file_extension": ".py",
   "mimetype": "text/x-python",
   "name": "python",
   "nbconvert_exporter": "python",
   "pygments_lexer": "ipython3",
   "version": "3.7.6"
  }
 },
 "nbformat": 4,
 "nbformat_minor": 4
}
