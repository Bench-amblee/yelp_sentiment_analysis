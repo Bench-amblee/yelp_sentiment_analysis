{
 "cells": [
  {
   "cell_type": "markdown",
   "metadata": {},
   "source": [
    "# Sentiment Analysis of Yelp Reviews - Pre Processing / Modeling"
   ]
  },
  {
   "cell_type": "markdown",
   "metadata": {},
   "source": [
    "#### Prepared By: Ben Chamblee - https://github.com/Bench-amblee"
   ]
  },
  {
   "cell_type": "markdown",
   "metadata": {},
   "source": [
    "## Contents"
   ]
  },
  {
   "cell_type": "markdown",
   "metadata": {},
   "source": [
    "* [Introduction](#Introduction)\n",
    "* [Categorization and Dummy Variables](#Dummy)\n",
    "* [CountVectorizer](#CountVectorizer)\n",
    "* [TFIDF](#TFIDF)\n",
    "* [Bigrams and min/max_df](#grams)\n",
    "* [Creating a Training Dataset](#Train)\n",
    "* [Conclusion](#Conclusion)"
   ]
  },
  {
   "cell_type": "markdown",
   "metadata": {},
   "source": [
    "## Introduction"
   ]
  },
  {
   "cell_type": "markdown",
   "metadata": {},
   "source": [
    "In the last notebook, we explored the relationships in our data and found things like Polarity which help label our training data. In this notebook we're going to prepare our data so that we can use it as an effective train/test split for building a model in the final notebook\n",
    "\n",
    "We need to do a few things:\n",
    "\n",
    "- Categorize and label the data\n",
    "- Convert the cleaned reviews into vector data\n",
    "- Create a pipeline using a text vectorization method\n",
    "- Test the newly categorized / vectorized data on a simple logistic regression"
   ]
  },
  {
   "cell_type": "markdown",
   "metadata": {},
   "source": [
    "## Imports"
   ]
  },
  {
   "cell_type": "code",
   "execution_count": 1,
   "metadata": {},
   "outputs": [],
   "source": [
    "import pandas as pd\n",
    "import numpy as np\n",
    "import matplotlib.pyplot as plt\n",
    "import warnings\n",
    "warnings.filterwarnings('ignore')\n",
    "\n",
    "yelp_data = pd.read_csv('yelp_data_analyzed.csv')"
   ]
  },
  {
   "cell_type": "code",
   "execution_count": 2,
   "metadata": {},
   "outputs": [
    {
     "data": {
      "text/html": [
       "<div>\n",
       "<style scoped>\n",
       "    .dataframe tbody tr th:only-of-type {\n",
       "        vertical-align: middle;\n",
       "    }\n",
       "\n",
       "    .dataframe tbody tr th {\n",
       "        vertical-align: top;\n",
       "    }\n",
       "\n",
       "    .dataframe thead th {\n",
       "        text-align: right;\n",
       "    }\n",
       "</style>\n",
       "<table border=\"1\" class=\"dataframe\">\n",
       "  <thead>\n",
       "    <tr style=\"text-align: right;\">\n",
       "      <th></th>\n",
       "      <th>Alias</th>\n",
       "      <th>Name</th>\n",
       "      <th>Rating</th>\n",
       "      <th>Price</th>\n",
       "      <th>City</th>\n",
       "      <th>Zip_code</th>\n",
       "      <th>Address</th>\n",
       "      <th>Review</th>\n",
       "      <th>Review_Word_Count</th>\n",
       "      <th>No_Stop_Words:Tokens</th>\n",
       "      <th>No_Stop_Words:Sentence</th>\n",
       "      <th>Stop_Word_Count</th>\n",
       "      <th>Stop_Words_%</th>\n",
       "      <th>Lemmatized</th>\n",
       "      <th>Stemmed:Sentence</th>\n",
       "      <th>Stemmed:Tokens</th>\n",
       "      <th>Polarity</th>\n",
       "      <th>Positive_Word_Count</th>\n",
       "      <th>Positive_Words_%</th>\n",
       "      <th>Stemmed_Word_Count</th>\n",
       "    </tr>\n",
       "  </thead>\n",
       "  <tbody>\n",
       "    <tr>\n",
       "      <th>0</th>\n",
       "      <td>morris-park-bake-shop-bronx</td>\n",
       "      <td>Morris Park Bake Shop</td>\n",
       "      <td>4.5</td>\n",
       "      <td>$$</td>\n",
       "      <td>Bronx</td>\n",
       "      <td>10462</td>\n",
       "      <td>1007 Morris Park Ave</td>\n",
       "      <td>'The chocolate cups are amazing! Have been eat...</td>\n",
       "      <td>16</td>\n",
       "      <td>['chocolate', 'cups', 'amazing', 'eating', 'ye...</td>\n",
       "      <td>chocolate cups amazing eating years always ta...</td>\n",
       "      <td>7</td>\n",
       "      <td>0.437500</td>\n",
       "      <td>chocolate cup amazing eating year always taste...</td>\n",
       "      <td>chocol cup amaz eat year alway tast fantast</td>\n",
       "      <td>['chocol', 'cup', 'amaz', 'eat', 'year', 'alwa...</td>\n",
       "      <td>0.500000</td>\n",
       "      <td>2</td>\n",
       "      <td>0.222222</td>\n",
       "      <td>8</td>\n",
       "    </tr>\n",
       "    <tr>\n",
       "      <th>1</th>\n",
       "      <td>morris-park-bake-shop-bronx</td>\n",
       "      <td>Morris Park Bake Shop</td>\n",
       "      <td>4.5</td>\n",
       "      <td>$$</td>\n",
       "      <td>Bronx</td>\n",
       "      <td>10462</td>\n",
       "      <td>1007 Morris Park Ave</td>\n",
       "      <td>'Morris Park Bake Shop has become my go to spo...</td>\n",
       "      <td>49</td>\n",
       "      <td>['morris', 'park', 'bake', 'shop', 'become', '...</td>\n",
       "      <td>morris park bake shop become go spot atmosphe...</td>\n",
       "      <td>20</td>\n",
       "      <td>0.408163</td>\n",
       "      <td>morris park bake shop become go spot atmospher...</td>\n",
       "      <td>morri park bake shop becom go spot atmospher p...</td>\n",
       "      <td>['morri', 'park', 'bake', 'shop', 'becom', 'go...</td>\n",
       "      <td>0.338889</td>\n",
       "      <td>6</td>\n",
       "      <td>0.206897</td>\n",
       "      <td>28</td>\n",
       "    </tr>\n",
       "    <tr>\n",
       "      <th>2</th>\n",
       "      <td>morris-park-bake-shop-bronx</td>\n",
       "      <td>Morris Park Bake Shop</td>\n",
       "      <td>4.5</td>\n",
       "      <td>$$</td>\n",
       "      <td>Bronx</td>\n",
       "      <td>10462</td>\n",
       "      <td>1007 Morris Park Ave</td>\n",
       "      <td>'I thought the cookies and biscotti were prett...</td>\n",
       "      <td>122</td>\n",
       "      <td>['thought', 'cookies', 'biscotti', 'pretty', '...</td>\n",
       "      <td>thought cookies biscotti pretty good definite...</td>\n",
       "      <td>53</td>\n",
       "      <td>0.434426</td>\n",
       "      <td>thought cooky biscotti pretty good definitely ...</td>\n",
       "      <td>thought cooki biscotti pretti good definit tas...</td>\n",
       "      <td>['thought', 'cooki', 'biscotti', 'pretti', 'go...</td>\n",
       "      <td>0.314583</td>\n",
       "      <td>9</td>\n",
       "      <td>0.130435</td>\n",
       "      <td>61</td>\n",
       "    </tr>\n",
       "    <tr>\n",
       "      <th>3</th>\n",
       "      <td>morris-park-bake-shop-bronx</td>\n",
       "      <td>Morris Park Bake Shop</td>\n",
       "      <td>4.5</td>\n",
       "      <td>$$</td>\n",
       "      <td>Bronx</td>\n",
       "      <td>10462</td>\n",
       "      <td>1007 Morris Park Ave</td>\n",
       "      <td>'Guys.... so Im a big time biscotti connoisseu...</td>\n",
       "      <td>169</td>\n",
       "      <td>['guys', 'im', 'big', 'time', 'biscotti', 'con...</td>\n",
       "      <td>guys im big time biscotti connoisseur always ...</td>\n",
       "      <td>75</td>\n",
       "      <td>0.443787</td>\n",
       "      <td>guy im big time biscotti connoisseur always hu...</td>\n",
       "      <td>guy im big time biscotti connoisseur alway hun...</td>\n",
       "      <td>['guy', 'im', 'big', 'time', 'biscotti', 'conn...</td>\n",
       "      <td>0.238068</td>\n",
       "      <td>12</td>\n",
       "      <td>0.127660</td>\n",
       "      <td>90</td>\n",
       "    </tr>\n",
       "    <tr>\n",
       "      <th>4</th>\n",
       "      <td>morris-park-bake-shop-bronx</td>\n",
       "      <td>Morris Park Bake Shop</td>\n",
       "      <td>4.5</td>\n",
       "      <td>$$</td>\n",
       "      <td>Bronx</td>\n",
       "      <td>10462</td>\n",
       "      <td>1007 Morris Park Ave</td>\n",
       "      <td>'I had a craving for a special type of cake wi...</td>\n",
       "      <td>59</td>\n",
       "      <td>['craving', 'special', 'type', 'cake', 'ice', ...</td>\n",
       "      <td>craving special type cake ice cream layer reg...</td>\n",
       "      <td>27</td>\n",
       "      <td>0.457627</td>\n",
       "      <td>craving special type cake ice cream layer regu...</td>\n",
       "      <td>crave special type cake ice cream layer regula...</td>\n",
       "      <td>['crave', 'special', 'type', 'cake', 'ice', 'c...</td>\n",
       "      <td>0.314643</td>\n",
       "      <td>7</td>\n",
       "      <td>0.218750</td>\n",
       "      <td>30</td>\n",
       "    </tr>\n",
       "  </tbody>\n",
       "</table>\n",
       "</div>"
      ],
      "text/plain": [
       "                         Alias                   Name  Rating Price   City  \\\n",
       "0  morris-park-bake-shop-bronx  Morris Park Bake Shop     4.5    $$  Bronx   \n",
       "1  morris-park-bake-shop-bronx  Morris Park Bake Shop     4.5    $$  Bronx   \n",
       "2  morris-park-bake-shop-bronx  Morris Park Bake Shop     4.5    $$  Bronx   \n",
       "3  morris-park-bake-shop-bronx  Morris Park Bake Shop     4.5    $$  Bronx   \n",
       "4  morris-park-bake-shop-bronx  Morris Park Bake Shop     4.5    $$  Bronx   \n",
       "\n",
       "   Zip_code               Address  \\\n",
       "0     10462  1007 Morris Park Ave   \n",
       "1     10462  1007 Morris Park Ave   \n",
       "2     10462  1007 Morris Park Ave   \n",
       "3     10462  1007 Morris Park Ave   \n",
       "4     10462  1007 Morris Park Ave   \n",
       "\n",
       "                                              Review  Review_Word_Count  \\\n",
       "0  'The chocolate cups are amazing! Have been eat...                 16   \n",
       "1  'Morris Park Bake Shop has become my go to spo...                 49   \n",
       "2  'I thought the cookies and biscotti were prett...                122   \n",
       "3  'Guys.... so Im a big time biscotti connoisseu...                169   \n",
       "4  'I had a craving for a special type of cake wi...                 59   \n",
       "\n",
       "                                No_Stop_Words:Tokens  \\\n",
       "0  ['chocolate', 'cups', 'amazing', 'eating', 'ye...   \n",
       "1  ['morris', 'park', 'bake', 'shop', 'become', '...   \n",
       "2  ['thought', 'cookies', 'biscotti', 'pretty', '...   \n",
       "3  ['guys', 'im', 'big', 'time', 'biscotti', 'con...   \n",
       "4  ['craving', 'special', 'type', 'cake', 'ice', ...   \n",
       "\n",
       "                              No_Stop_Words:Sentence  Stop_Word_Count  \\\n",
       "0   chocolate cups amazing eating years always ta...                7   \n",
       "1   morris park bake shop become go spot atmosphe...               20   \n",
       "2   thought cookies biscotti pretty good definite...               53   \n",
       "3   guys im big time biscotti connoisseur always ...               75   \n",
       "4   craving special type cake ice cream layer reg...               27   \n",
       "\n",
       "   Stop_Words_%                                         Lemmatized  \\\n",
       "0      0.437500  chocolate cup amazing eating year always taste...   \n",
       "1      0.408163  morris park bake shop become go spot atmospher...   \n",
       "2      0.434426  thought cooky biscotti pretty good definitely ...   \n",
       "3      0.443787  guy im big time biscotti connoisseur always hu...   \n",
       "4      0.457627  craving special type cake ice cream layer regu...   \n",
       "\n",
       "                                    Stemmed:Sentence  \\\n",
       "0        chocol cup amaz eat year alway tast fantast   \n",
       "1  morri park bake shop becom go spot atmospher p...   \n",
       "2  thought cooki biscotti pretti good definit tas...   \n",
       "3  guy im big time biscotti connoisseur alway hun...   \n",
       "4  crave special type cake ice cream layer regula...   \n",
       "\n",
       "                                      Stemmed:Tokens  Polarity  \\\n",
       "0  ['chocol', 'cup', 'amaz', 'eat', 'year', 'alwa...  0.500000   \n",
       "1  ['morri', 'park', 'bake', 'shop', 'becom', 'go...  0.338889   \n",
       "2  ['thought', 'cooki', 'biscotti', 'pretti', 'go...  0.314583   \n",
       "3  ['guy', 'im', 'big', 'time', 'biscotti', 'conn...  0.238068   \n",
       "4  ['crave', 'special', 'type', 'cake', 'ice', 'c...  0.314643   \n",
       "\n",
       "   Positive_Word_Count  Positive_Words_%  Stemmed_Word_Count  \n",
       "0                    2          0.222222                   8  \n",
       "1                    6          0.206897                  28  \n",
       "2                    9          0.130435                  61  \n",
       "3                   12          0.127660                  90  \n",
       "4                    7          0.218750                  30  "
      ]
     },
     "execution_count": 2,
     "metadata": {},
     "output_type": "execute_result"
    }
   ],
   "source": [
    "yelp_data.head()"
   ]
  },
  {
   "cell_type": "markdown",
   "metadata": {},
   "source": [
    "## Categorization and Dummy Variables<a id='Dummy'></a>"
   ]
  },
  {
   "cell_type": "markdown",
   "metadata": {},
   "source": [
    "Before we get started with our model we need to categorize our data into groups that our model can sort by. In this case, because we're doing a sentiment analysis, we're going to sort our data into 'positive' and 'negative' sentiment reviews based on each review's TextBlob Polarity."
   ]
  },
  {
   "cell_type": "code",
   "execution_count": 3,
   "metadata": {},
   "outputs": [],
   "source": [
    "yelp_data_s = yelp_data[yelp_data['Polarity'] != 0]\n",
    "yelp_data_s = yelp_data_s.reset_index()"
   ]
  },
  {
   "cell_type": "code",
   "execution_count": 4,
   "metadata": {},
   "outputs": [],
   "source": [
    "sentiment = []\n",
    "for i in range(len(yelp_data_s)):\n",
    "    if yelp_data_s['Polarity'][i] > 0:\n",
    "        sentiment.append('Positive')\n",
    "    if yelp_data_s['Polarity'][i] < 0:\n",
    "        sentiment.append('Negative')\n",
    "yelp_data_s['sentiment'] = sentiment"
   ]
  },
  {
   "cell_type": "code",
   "execution_count": 5,
   "metadata": {
    "scrolled": true
   },
   "outputs": [
    {
     "data": {
      "image/png": "[encoded data removed]",
      "text/plain": [
       "<Figure size 432x288 with 1 Axes>"
      ]
     },
     "metadata": {
      "needs_background": "light"
     },
     "output_type": "display_data"
    }
   ],
   "source": [
    "yelp_data_s['sentiment'].value_counts().plot(kind='bar')\n",
    "plt.title('Assigned Sentiment of Training Data');"
   ]
  },
  {
   "cell_type": "markdown",
   "metadata": {},
   "source": [
    "As you can see, most of our reviews are positive, let's see if we can sort it out even more for better results"
   ]
  },
  {
   "cell_type": "code",
   "execution_count": 6,
   "metadata": {},
   "outputs": [],
   "source": [
    "sentiment = []\n",
    "for i in range(len(yelp_data_s)):\n",
    "    if yelp_data_s['Polarity'][i] >= 0.4:\n",
    "        sentiment.append('Positive')\n",
    "    if yelp_data_s['Polarity'][i] > 0.2 and yelp_data_s['Polarity'][i] < 0.4:\n",
    "        sentiment.append('Slightly Positive')\n",
    "    if yelp_data_s['Polarity'][i] <= 0.2 and yelp_data_s['Polarity'][i] > 0:\n",
    "        sentiment.append('Slightly Negative')\n",
    "    if yelp_data_s['Polarity'][i] < 0:\n",
    "        sentiment.append('Negative')\n",
    "yelp_data_s['sentiment'] = sentiment"
   ]
  },
  {
   "cell_type": "code",
   "execution_count": 7,
   "metadata": {
    "scrolled": true
   },
   "outputs": [
    {
     "data": {
      "image/png": "[encoded data removed]",
      "text/plain": [
       "<Figure size 432x288 with 1 Axes>"
      ]
     },
     "metadata": {
      "needs_background": "light"
     },
     "output_type": "display_data"
    }
   ],
   "source": [
    "yelp_data_s['sentiment'].value_counts().plot(kind='bar')\n",
    "plt.title('Assigned Sentiment of Training Data');"
   ]
  },
  {
   "cell_type": "markdown",
   "metadata": {},
   "source": [
    "This is still a little biased towards positive reviews, but I did some research and it turns out that a large majority of all of yelp's reviews are positive so this makes sense"
   ]
  },
  {
   "cell_type": "markdown",
   "metadata": {},
   "source": [
    "!['yelp reviews'](yelp_img.png)"
   ]
  },
  {
   "cell_type": "markdown",
   "metadata": {},
   "source": [
    "Let's take a look at some of our features and how they change based on their category"
   ]
  },
  {
   "cell_type": "code",
   "execution_count": 8,
   "metadata": {},
   "outputs": [],
   "source": [
    "yelp_data_s = yelp_data_s.rename(columns={'Stop_Words_%':'Stop_Words_P'})\n",
    "yelp_data_s = yelp_data_s.rename(columns={'Positive_Words_%':'Positive_Words_P'})"
   ]
  },
  {
   "cell_type": "code",
   "execution_count": 9,
   "metadata": {},
   "outputs": [
    {
     "data": {
      "image/png": "[encoded data removed]",
      "text/plain": [
       "<Figure size 1080x360 with 4 Axes>"
      ]
     },
     "metadata": {
      "needs_background": "light"
     },
     "output_type": "display_data"
    }
   ],
   "source": [
    "fig, axs = plt.subplots(1, 4, figsize = (15,5), sharex = True, sharey = True)\n",
    "axs[0].hist(yelp_data_s[yelp_data_s.sentiment == 'Positive'].Stop_Words_P, bins = 30, density = True, range = (0,0.5), color = 'green', label = \"Positive\")\n",
    "axs[0].axvline(np.median(yelp_data_s[yelp_data_s.sentiment == 'Positive'].Stop_Words_P), color = 'b', lw = 2, )\n",
    "axs[0].legend(loc=\"upper right\")\n",
    "\n",
    "axs[1].hist(yelp_data_s[yelp_data_s.sentiment == 'Slightly Positive'].Stop_Words_P, bins = 30, density = True, range = (0,0.5), color = 'purple', label = \"Slightly Positive\")\n",
    "axs[1].axvline(np.median(yelp_data_s[yelp_data_s.sentiment == 'Slightly Positive'].Stop_Words_P), color = 'b', lw = 2, )\n",
    "axs[1].legend(loc=\"upper right\")\n",
    "\n",
    "axs[2].hist(yelp_data_s[yelp_data_s.sentiment == 'Slightly Negative'].Stop_Words_P, bins = 30, density = True, range = (0,0.5), color = 'orange', label = \"Slightly Negative\")\n",
    "axs[2].axvline(np.median(yelp_data_s[yelp_data_s.sentiment == 'Slightly Negative'].Stop_Words_P), color = 'b', lw = 2, )\n",
    "axs[2].legend(loc=\"upper right\")\n",
    "\n",
    "axs[3].hist(yelp_data_s[yelp_data_s.sentiment == 'Negative'].Stop_Words_P, bins = 30, density = True, range = (0,0.5), color = 'red', label = \"Negative\")\n",
    "axs[3].axvline(np.median(yelp_data_s[yelp_data_s.sentiment == 'Negative'].Stop_Words_P), color = 'b', lw = 2, )\n",
    "axs[3].legend(loc=\"upper right\")\n",
    "\n",
    "for ax in axs.flat:\n",
    "    ax.set(xlabel='Percentage of Stop Words', ylabel='Frequency')\n",
    "plt.show()"
   ]
  },
  {
   "cell_type": "markdown",
   "metadata": {},
   "source": [
    "It looks like the average is around 40% for each category, let's try another feature"
   ]
  },
  {
   "cell_type": "code",
   "execution_count": 10,
   "metadata": {},
   "outputs": [
    {
     "data": {
      "image/png": "[encoded data removed]",
      "text/plain": [
       "<Figure size 1080x360 with 4 Axes>"
      ]
     },
     "metadata": {
      "needs_background": "light"
     },
     "output_type": "display_data"
    }
   ],
   "source": [
    "fig, axs = plt.subplots(1, 4, figsize = (15,5), sharex = True, sharey = True)\n",
    "axs[0].hist(yelp_data_s[yelp_data_s.sentiment == 'Positive'].Positive_Words_P, bins = 30, density = True, range = (0,0.5), color = 'green', label = \"Positive\")\n",
    "axs[0].axvline(np.median(yelp_data_s[yelp_data_s.sentiment == 'Positive'].Positive_Words_P), color = 'b', lw = 2, )\n",
    "axs[0].legend(loc=\"upper right\")\n",
    "\n",
    "axs[1].hist(yelp_data_s[yelp_data_s.sentiment == 'Slightly Positive'].Positive_Words_P, bins = 30, density = True, range = (0,0.5), color = 'purple', label = \"Slightly Positive\")\n",
    "axs[1].axvline(np.median(yelp_data_s[yelp_data_s.sentiment == 'Slightly Positive'].Positive_Words_P), color = 'b', lw = 2, )\n",
    "axs[1].legend(loc=\"upper right\")\n",
    "\n",
    "axs[2].hist(yelp_data_s[yelp_data_s.sentiment == 'Slightly Negative'].Positive_Words_P, bins = 30, density = True, range = (0,0.5), color = 'orange', label = \"Slightly Negative\")\n",
    "axs[2].axvline(np.median(yelp_data_s[yelp_data_s.sentiment == 'Slightly Negative'].Positive_Words_P), color = 'b', lw = 2, )\n",
    "axs[2].legend(loc=\"upper right\")\n",
    "\n",
    "axs[3].hist(yelp_data_s[yelp_data_s.sentiment == 'Negative'].Positive_Words_P, bins = 30, density = True, range = (0,0.5), color = 'red', label = \"Negative\")\n",
    "axs[3].axvline(np.median(yelp_data_s[yelp_data_s.sentiment == 'Negative'].Positive_Words_P), color = 'b', lw = 2, )\n",
    "axs[3].legend(loc=\"upper right\")\n",
    "\n",
    "for ax in axs.flat:\n",
    "    ax.set(xlabel='Percentage of Positive Words', ylabel='Frequency')\n",
    "plt.show()"
   ]
  },
  {
   "cell_type": "markdown",
   "metadata": {},
   "source": [
    "These looks different, but I'm not entirely convinced: let's take another look"
   ]
  },
  {
   "cell_type": "code",
   "execution_count": 11,
   "metadata": {
    "scrolled": true
   },
   "outputs": [
    {
     "name": "stdout",
     "output_type": "stream",
     "text": [
      "Positive:  0.2307692307692307\n",
      "Slightly Positive:  0.1772151898734177\n",
      "Slightly Negative:  0.1333333333333333\n",
      "Negative:  0.0967741935483871\n"
     ]
    }
   ],
   "source": [
    "print('Positive: ',np.median(yelp_data_s[yelp_data_s.sentiment == 'Positive'].Positive_Words_P))\n",
    "print('Slightly Positive: ',np.median(yelp_data_s[yelp_data_s.sentiment == 'Slightly Positive'].Positive_Words_P))\n",
    "print('Slightly Negative: ',np.median(yelp_data_s[yelp_data_s.sentiment == 'Slightly Negative'].Positive_Words_P))\n",
    "print('Negative: ',np.median(yelp_data_s[yelp_data_s.sentiment == 'Negative'].Positive_Words_P))"
   ]
  },
  {
   "cell_type": "markdown",
   "metadata": {},
   "source": [
    "This could be useful"
   ]
  },
  {
   "cell_type": "code",
   "execution_count": 12,
   "metadata": {
    "scrolled": true
   },
   "outputs": [
    {
     "data": {
      "image/png": "[encoded data removed]",
      "text/plain": [
       "<Figure size 1080x360 with 4 Axes>"
      ]
     },
     "metadata": {
      "needs_background": "light"
     },
     "output_type": "display_data"
    }
   ],
   "source": [
    "fig, axs = plt.subplots(1, 4, figsize = (15,5), sharex = True, sharey = True)\n",
    "axs[0].hist(yelp_data_s[yelp_data_s.sentiment == 'Positive'].Stemmed_Word_Count, bins = 30, density = True, range = (0,100), color = 'green', label = \"Positive\")\n",
    "axs[0].axvline(np.median(yelp_data_s[yelp_data_s.sentiment == 'Positive'].Stemmed_Word_Count), color = 'b', lw = 2, )\n",
    "axs[0].legend(loc=\"upper right\")\n",
    "\n",
    "axs[1].hist(yelp_data_s[yelp_data_s.sentiment == 'Slightly Positive'].Stemmed_Word_Count, bins = 30, density = True, range = (0,100), color = 'purple', label = \"Slightly Positive\")\n",
    "axs[1].axvline(np.median(yelp_data_s[yelp_data_s.sentiment == 'Slightly Positive'].Stemmed_Word_Count), color = 'b', lw = 2, )\n",
    "axs[1].legend(loc=\"upper right\")\n",
    "\n",
    "axs[2].hist(yelp_data_s[yelp_data_s.sentiment == 'Slightly Negative'].Stemmed_Word_Count, bins = 30, density = True, range = (0,100), color = 'orange', label = \"Slightly Negative\")\n",
    "axs[2].axvline(np.median(yelp_data_s[yelp_data_s.sentiment == 'Slightly Negative'].Stemmed_Word_Count), color = 'b', lw = 2, )\n",
    "axs[2].legend(loc=\"upper right\")\n",
    "\n",
    "axs[3].hist(yelp_data_s[yelp_data_s.sentiment == 'Negative'].Stemmed_Word_Count, bins = 30, density = True, range = (0,100), color = 'red', label = \"Negative\")\n",
    "axs[3].axvline(np.median(yelp_data_s[yelp_data_s.sentiment == 'Negative'].Stemmed_Word_Count), color = 'b', lw = 2, )\n",
    "axs[3].legend(loc=\"upper right\")\n",
    "\n",
    "for ax in axs.flat:\n",
    "    ax.set(xlabel='Stemmed Word Count', ylabel='Frequency')\n",
    "plt.show()"
   ]
  },
  {
   "cell_type": "markdown",
   "metadata": {},
   "source": [
    "No real discernable features here - sure the slightly negatives reviews have more than the slightly positive ones but then the negative reviews have about as much as the slighly positive ones. Not very consistent"
   ]
  },
  {
   "cell_type": "markdown",
   "metadata": {},
   "source": [
    "It looks like the only really useful data we could use is the positive words %, but we'll see if that proves to be helpful when we make our model"
   ]
  },
  {
   "cell_type": "markdown",
   "metadata": {},
   "source": [
    "Now that we have out data categorized we're going to need to converted our tokenized reviews into word vectors using two different approaches: CountVectorizer and TFIDF"
   ]
  },
  {
   "cell_type": "markdown",
   "metadata": {},
   "source": [
    "## CountVectorizer"
   ]
  },
  {
   "cell_type": "markdown",
   "metadata": {},
   "source": [
    "The CountVectorizer uses the bag of words approach to convert text to word counts and, more importantly, a vector. The vector for each word, paragraph, or sentence can then be compared to other vectors and we can see which ones are the most similar."
   ]
  },
  {
   "cell_type": "markdown",
   "metadata": {},
   "source": [
    "I'll start with the first two reviews from one location to demonstrate:"
   ]
  },
  {
   "cell_type": "code",
   "execution_count": 13,
   "metadata": {
    "scrolled": true
   },
   "outputs": [
    {
     "name": "stdout",
     "output_type": "stream",
     "text": [
      "List of unique Words:  {'chocolate': 7, 'cups': 9, 'amazing': 1, 'eating': 11, 'years': 30, 'always': 0, 'taste': 28, 'fantastic': 13, 'morris': 19, 'park': 21, 'bake': 5, 'shop': 25, 'become': 6, 'go': 14, 'spot': 26, 'atmosphere': 3, 'place': 22, 'great': 15, 'inviting': 17, 'love': 18, 'every': 12, 'thing': 29, 'ordered': 20, 'staff': 27, 'really': 24, 'pleasant': 23, 'definitely': 10, 'help': 16, 'anything': 2, 'come': 8, 'back': 4}\n",
      "\n",
      "Shape of the Sparse Matrix  (2, 31)\n",
      "\n",
      "[[1 1 0 0 0 0 0 1 0 1 0 1 0 1 0 0 0 0 0 0 0 0 0 0 0 0 0 0 1 0 1]\n",
      " [0 0 1 1 1 2 1 0 1 0 2 0 1 0 1 1 1 1 1 2 1 2 1 1 1 2 1 1 0 1 0]]\n"
     ]
    }
   ],
   "source": [
    "from sklearn.feature_extraction.text import CountVectorizer\n",
    "\n",
    "text = yelp_data_s['No_Stop_Words:Sentence'][0:2]\n",
    "vectorizer = CountVectorizer()\n",
    "vectorizer.fit(text)\n",
    "vector = vectorizer.transform(text)\n",
    "\n",
    "#summary\n",
    "print('List of unique Words: ',vectorizer.vocabulary_)\n",
    "print('')\n",
    "print('Shape of the Sparse Matrix ',vector.shape)\n",
    "print('')\n",
    "print(vector.toarray())"
   ]
  },
  {
   "cell_type": "code",
   "execution_count": 14,
   "metadata": {},
   "outputs": [
    {
     "data": {
      "image/png": "[encoded data removed]",
      "text/plain": [
       "<Figure size 864x360 with 1 Axes>"
      ]
     },
     "metadata": {
      "needs_background": "light"
     },
     "output_type": "display_data"
    }
   ],
   "source": [
    "lists = vectorizer.vocabulary_.items() # sorted by key, return a list of tuples\n",
    "\n",
    "x, y = zip(*lists) # unpack a list of pairs into two tuples\n",
    "\n",
    "plt.figure(figsize=(12,5))\n",
    "plt.bar(x, y)\n",
    "plt.xticks(rotation='vertical')\n",
    "plt.title('Word Frequency in 2 Yelp Reviews')\n",
    "plt.ylabel('Word Count')\n",
    "plt.show()"
   ]
  },
  {
   "cell_type": "markdown",
   "metadata": {},
   "source": [
    "Here we've got 31 unique words in two reviews. If there's a 1 that means the word appears and a 0 means the unique word did not make an appearance. 2s and other values simply mean that the unique word appears multiple times"
   ]
  },
  {
   "cell_type": "markdown",
   "metadata": {},
   "source": [
    "## TFIDF"
   ]
  },
  {
   "cell_type": "markdown",
   "metadata": {},
   "source": [
    "This stands for Term Frequency Inverse Document Frequency which means that in addition to measuring the word frequency in each review we can also measure how frequently a word appears among all lines of text. This is really important when it comes to picking out very unique words"
   ]
  },
  {
   "cell_type": "code",
   "execution_count": 15,
   "metadata": {},
   "outputs": [
    {
     "name": "stdout",
     "output_type": "stream",
     "text": [
      "List of unique Words:  {'chocolate': 7, 'cups': 9, 'amazing': 1, 'eating': 11, 'years': 30, 'always': 0, 'taste': 28, 'fantastic': 13, 'morris': 19, 'park': 21, 'bake': 5, 'shop': 25, 'become': 6, 'go': 14, 'spot': 26, 'atmosphere': 3, 'place': 22, 'great': 15, 'inviting': 17, 'love': 18, 'every': 12, 'thing': 29, 'ordered': 20, 'staff': 27, 'really': 24, 'pleasant': 23, 'definitely': 10, 'help': 16, 'anything': 2, 'come': 8, 'back': 4}\n",
      "\n",
      "Shape of the Sparse Matrix  (2, 31)\n",
      "\n",
      "[[0.35355339 0.35355339 0.         0.         0.         0.\n",
      "  0.         0.35355339 0.         0.35355339 0.         0.35355339\n",
      "  0.         0.35355339 0.         0.         0.         0.\n",
      "  0.         0.         0.         0.         0.         0.\n",
      "  0.         0.         0.         0.         0.35355339 0.\n",
      "  0.35355339]\n",
      " [0.         0.         0.16222142 0.16222142 0.16222142 0.32444284\n",
      "  0.16222142 0.         0.16222142 0.         0.32444284 0.\n",
      "  0.16222142 0.         0.16222142 0.16222142 0.16222142 0.16222142\n",
      "  0.16222142 0.32444284 0.16222142 0.32444284 0.16222142 0.16222142\n",
      "  0.16222142 0.32444284 0.16222142 0.16222142 0.         0.16222142\n",
      "  0.        ]]\n"
     ]
    }
   ],
   "source": [
    "from sklearn.feature_extraction.text import TfidfVectorizer\n",
    "\n",
    "text = yelp_data_s['No_Stop_Words:Sentence'][0:2]\n",
    "Tvectorizer = TfidfVectorizer()\n",
    "Tvectorizer.fit(text)\n",
    "Tvector = Tvectorizer.transform(text)\n",
    "\n",
    "#summary\n",
    "print('List of unique Words: ',Tvectorizer.vocabulary_)\n",
    "print('')\n",
    "print('Shape of the Sparse Matrix ',Tvector.shape)\n",
    "print('')\n",
    "print(Tvector.toarray())"
   ]
  },
  {
   "cell_type": "markdown",
   "metadata": {},
   "source": [
    "Lets see how we can make these metrics even better for our model"
   ]
  },
  {
   "cell_type": "markdown",
   "metadata": {},
   "source": [
    "## Bigrams and min/max_df<a id='grams'></a>"
   ]
  },
  {
   "cell_type": "markdown",
   "metadata": {},
   "source": [
    "I believe Bigrams will be very important for this model because of how people tend to write these yelp reivews. Phrases like 'No good' or 'not bad' are very common but if you tokenize them into individual words it completely changes the meaning. Bigrams turn these tokens into token pairs and create more unique pairs with more meaning"
   ]
  },
  {
   "cell_type": "code",
   "execution_count": 16,
   "metadata": {
    "scrolled": false
   },
   "outputs": [
    {
     "name": "stdout",
     "output_type": "stream",
     "text": [
      "List of unique Words:  {'chocolate': 14, 'cups': 18, 'amazing': 2, 'eating': 23, 'years': 60, 'always': 0, 'taste': 56, 'fantastic': 27, 'chocolate cups': 15, 'cups amazing': 19, 'amazing eating': 3, 'eating years': 24, 'years always': 61, 'always taste': 1, 'taste fantastic': 57, 'morris': 38, 'park': 42, 'bake': 10, 'shop': 50, 'become': 12, 'go': 28, 'spot': 52, 'atmosphere': 6, 'place': 44, 'great': 30, 'inviting': 34, 'love': 36, 'every': 25, 'thing': 58, 'ordered': 40, 'staff': 54, 'really': 48, 'pleasant': 46, 'definitely': 20, 'help': 32, 'anything': 4, 'come': 16, 'back': 8, 'morris park': 39, 'park bake': 43, 'bake shop': 11, 'shop become': 51, 'become go': 13, 'go spot': 29, 'spot atmosphere': 53, 'atmosphere place': 7, 'place great': 45, 'great inviting': 31, 'inviting love': 35, 'love every': 37, 'every thing': 26, 'thing ordered': 59, 'ordered staff': 41, 'staff really': 55, 'really pleasant': 49, 'pleasant definitely': 47, 'definitely help': 22, 'help anything': 33, 'anything definitely': 5, 'definitely come': 21, 'come back': 17, 'back morris': 9}\n",
      "\n",
      "Shape of the Sparse Matrix  (2, 62)\n",
      "\n",
      "[[1 1 1 1 0 0 0 0 0 0 0 0 0 0 1 1 0 0 1 1 0 0 0 1 1 0 0 1 0 0 0 0 0 0 0 0\n",
      "  0 0 0 0 0 0 0 0 0 0 0 0 0 0 0 0 0 0 0 0 1 1 0 0 1 1]\n",
      " [0 0 0 0 1 1 1 1 1 1 2 2 1 1 0 0 1 1 0 0 2 1 1 0 0 1 1 0 1 1 1 1 1 1 1 1\n",
      "  1 1 2 2 1 1 2 2 1 1 1 1 1 1 2 1 1 1 1 1 0 0 1 1 0 0]]\n"
     ]
    }
   ],
   "source": [
    "text = yelp_data_s['No_Stop_Words:Sentence'][0:2]\n",
    "vectorizer = CountVectorizer(ngram_range=(1,2))\n",
    "vectorizer.fit(text)\n",
    "vector = vectorizer.transform(text)\n",
    "\n",
    "#summary\n",
    "print('List of unique Words: ',vectorizer.vocabulary_)\n",
    "print('')\n",
    "print('Shape of the Sparse Matrix ',vector.shape)\n",
    "print('')\n",
    "print(vector.toarray())"
   ]
  },
  {
   "cell_type": "code",
   "execution_count": 17,
   "metadata": {},
   "outputs": [
    {
     "data": {
      "image/png": "[encoded data removed]",
      "text/plain": [
       "<Figure size 864x360 with 1 Axes>"
      ]
     },
     "metadata": {
      "needs_background": "light"
     },
     "output_type": "display_data"
    }
   ],
   "source": [
    "lists = vectorizer.vocabulary_.items() # sorted by key, return a list of tuples\n",
    "x, y = zip(*lists) # unpack a list of pairs into two tuples\n",
    "plt.figure(figsize=(12,5))\n",
    "plt.bar(x, y)\n",
    "plt.xticks(rotation='vertical')\n",
    "plt.title('Word Frequency in 2 Yelp Reviews (2 word pairs included)')\n",
    "plt.ylabel('Word Count')\n",
    "plt.show()"
   ]
  },
  {
   "cell_type": "markdown",
   "metadata": {},
   "source": [
    "min_df and max_df basically set limits on how much of the data we want to display in these arrays. min_df specifies how infrequently a word can appear to be significant and max_df does this oppositive\n",
    "\n",
    "Specifying min and max_df saves time and memory for the code and filters our the words that only appear a couple of times (which are usually spelling errors anyway!)"
   ]
  },
  {
   "cell_type": "code",
   "execution_count": 18,
   "metadata": {},
   "outputs": [
    {
     "name": "stdout",
     "output_type": "stream",
     "text": [
      "List of unique Words:  {'shop': 5, 'go': 2, 'great': 3, 'staff': 6, 'really': 4, 'definitely': 1, 'back': 0}\n",
      "\n",
      "Shape of the Sparse Matrix  (3, 7)\n",
      "\n",
      "[[0 0 0 0 0 0 0]\n",
      " [1 2 1 1 1 2 1]\n",
      " [1 1 1 1 3 1 2]]\n"
     ]
    }
   ],
   "source": [
    "text = yelp_data_s['No_Stop_Words:Sentence'][0:3]\n",
    "vectorizer = CountVectorizer(ngram_range=(1,2),min_df=2)\n",
    "vectorizer.fit(text)\n",
    "vector = vectorizer.transform(text)\n",
    "\n",
    "#summary\n",
    "print('List of unique Words: ',vectorizer.vocabulary_)\n",
    "print('')\n",
    "print('Shape of the Sparse Matrix ',vector.shape)\n",
    "print('')\n",
    "print(vector.toarray())"
   ]
  },
  {
   "cell_type": "code",
   "execution_count": 19,
   "metadata": {
    "scrolled": false
   },
   "outputs": [
    {
     "data": {
      "image/png": "[encoded data removed]",
      "text/plain": [
       "<Figure size 864x360 with 1 Axes>"
      ]
     },
     "metadata": {
      "needs_background": "light"
     },
     "output_type": "display_data"
    }
   ],
   "source": [
    "lists = vectorizer.vocabulary_.items() # sorted by key, return a list of tuples\n",
    "x, y = zip(*lists) # unpack a list of pairs into two tuples\n",
    "plt.figure(figsize=(12,5))\n",
    "plt.bar(x, y)\n",
    "plt.xticks(rotation='vertical')\n",
    "plt.title('Word Frequency in 3 Yelp Review (min 2 appearances)')\n",
    "plt.ylabel('Word Count')\n",
    "plt.show()"
   ]
  },
  {
   "cell_type": "markdown",
   "metadata": {},
   "source": [
    "In this case, out of 3 reviews these are the only words that appeared in 2 or more"
   ]
  },
  {
   "cell_type": "markdown",
   "metadata": {},
   "source": [
    "## Creating a Training Dataset<a id='Train'></a>"
   ]
  },
  {
   "cell_type": "code",
   "execution_count": 47,
   "metadata": {},
   "outputs": [],
   "source": [
    "text = yelp_data_s['Stemmed:Sentence']\n",
    "Tvectorizer = TfidfVectorizer()\n",
    "Tvectorizer.fit(text)\n",
    "Tvector = Tvectorizer.transform(text)"
   ]
  },
  {
   "cell_type": "code",
   "execution_count": 48,
   "metadata": {},
   "outputs": [],
   "source": [
    "voc = Tvectorizer.vocabulary_\n",
    "df = pd.DataFrame(Tvector.toarray(),columns=voc)\n",
    "\n",
    "col_name1 ='Name'\n",
    "col_name2 = 'Review'\n",
    "col_name3 = 'Polarity'\n",
    "col_name4 = 'Sentiment'\n",
    "col_name5 = 'Positive_Words_P'\n",
    "\n",
    "col1 = yelp_data_s['Name']\n",
    "col2 = yelp_data_s['Review']\n",
    "col3 = yelp_data_s['Polarity']\n",
    "col4 = yelp_data_s['sentiment']\n",
    "col5 = yelp_data_s['Positive_Words_P']\n",
    "\n",
    "df.insert(0,col_name1,col1)\n",
    "df.insert(1,col_name2,col2)\n",
    "df.insert(2,col_name3,col3)\n",
    "df.insert(3,col_name4,col4)\n",
    "df.insert(4,col_name5,col5)"
   ]
  },
  {
   "cell_type": "code",
   "execution_count": 49,
   "metadata": {},
   "outputs": [],
   "source": [
    "morDf = df[df['Name'] == \"Morris Park Bake Shop\"]"
   ]
  },
  {
   "cell_type": "code",
   "execution_count": 51,
   "metadata": {
    "scrolled": true
   },
   "outputs": [
    {
     "name": "stdout",
     "output_type": "stream",
     "text": [
      "0.425\n",
      "Sentiment: Positive\n"
     ]
    },
    {
     "data": {
      "text/plain": [
       "nonsumm            0.480194\n",
       "1245pm             0.384636\n",
       "dee                0.364553\n",
       "tipofthehat        0.346561\n",
       "couplea            0.298093\n",
       "bustl              0.266512\n",
       "awardwin           0.235031\n",
       "extracurricular    0.211855\n",
       "expectthey         0.167201\n",
       "photogen            0.16599\n",
       "Name: 15, dtype: object"
      ]
     },
     "execution_count": 51,
     "metadata": {},
     "output_type": "execute_result"
    }
   ],
   "source": [
    "print(morDf.iloc[15]['Polarity'])\n",
    "print('Sentiment:', morDf.iloc[15]['Sentiment'])\n",
    "x = morDf.iloc[15]['chocol':].sort_values(ascending=False)[:10]\n",
    "x"
   ]
  },
  {
   "cell_type": "markdown",
   "metadata": {},
   "source": [
    "Now that we have these new features, let's create a dataset that we can use to train our model. In this case, I'm going to use the TFIDF along with our new 'dummy' variables to make our model even more accurate"
   ]
  },
  {
   "cell_type": "code",
   "execution_count": 29,
   "metadata": {},
   "outputs": [
    {
     "name": "stdout",
     "output_type": "stream",
     "text": [
      "Accuracy Score:  0.6767215112736137\n",
      "\n",
      "Overall Statistics : \n",
      "\n",
      "ACC Macro                                                         0.83836\n",
      "F1 Macro                                                          0.67224\n",
      "FPR Macro                                                         0.11928\n",
      "Kappa                                                             0.53803\n",
      "Overall ACC                                                       0.67672\n",
      "PPV Macro                                                         0.72639\n",
      "SOA1(Landis & Koch)                                               Moderate\n",
      "TPR Macro                                                         0.64557\n",
      "Zero-one Loss                                                     1061\n",
      "\n",
      "Class Statistics :\n",
      "\n",
      "Classes                                                           Negative              Positive              Slightly Negative     Slightly Positive     \n",
      "ACC(Accuracy)                                                     0.93114               0.87355               0.80012               0.74863               \n",
      "AUC(Area under the ROC curve)                                     0.76571               0.77982               0.74928               0.75778               \n",
      "AUCI(AUC value interpretation)                                    Good                  Good                  Good                  Good                  \n",
      "F1(F1 score - harmonic mean of precision and sensitivity)         0.66469               0.68632               0.63677               0.7012                \n",
      "FN(False negative/miss/type 2 error)                              187                   293                   329                   252                   \n",
      "FP(False positive/type 1 error/false alarm)                       39                    122                   327                   573                   \n",
      "FPR(Fall-out or false positive rate)                              0.01358               0.04813               0.13751               0.27789               \n",
      "N(Condition negative)                                             2871                  2535                  2378                  2062                  \n",
      "P(Condition positive or support)                                  411                   747                   904                   1220                  \n",
      "POP(Population)                                                   3282                  3282                  3282                  3282                  \n",
      "PPV(Precision or positive predictive value)                       0.85171               0.78819               0.63747               0.62816               \n",
      "TN(True negative/correct rejection)                               2832                  2413                  2051                  1489                  \n",
      "TON(Test outcome negative)                                        3019                  2706                  2380                  1741                  \n",
      "TOP(Test outcome positive)                                        263                   576                   902                   1541                  \n",
      "TP(True positive/hit)                                             224                   454                   575                   968                   \n",
      "TPR(Sensitivity, recall, hit rate, or true positive rate)         0.54501               0.60776               0.63606               0.79344               \n",
      "\n"
     ]
    },
    {
     "data": {
      "image/png": "[encoded data removed]",
      "text/plain": [
       "<Figure size 720x720 with 2 Axes>"
      ]
     },
     "metadata": {
      "needs_background": "light"
     },
     "output_type": "display_data"
    }
   ],
   "source": [
    "import seaborn as sns\n",
    "from sklearn.model_selection import train_test_split\n",
    "from sklearn.pipeline import Pipeline\n",
    "from sklearn.feature_extraction.text import TfidfVectorizer\n",
    "from sklearn.linear_model import LogisticRegression\n",
    "from sklearn.metrics import confusion_matrix, accuracy_score\n",
    "from pycm import *\n",
    "\n",
    "X = df.iloc[0:,4:]\n",
    "y = df.Sentiment\n",
    "\n",
    "Xtrain, Xtest, ytrain, ytest = train_test_split(X,y,random_state=0,test_size=0.3)\n",
    "\n",
    "clf2 = LogisticRegression(solver = 'lbfgs')\n",
    "model = Pipeline([('classifier',clf2)])\n",
    "model.fit(Xtrain, ytrain)\n",
    "predictions = model.predict(Xtest)\n",
    "mat = confusion_matrix(predictions,ytest)\n",
    "cm_df =  pd.DataFrame(mat, index= [i for i in ['Negative','Positive',\n",
    "                                               'Slightly Negative',\n",
    "                                              'Slightly Positive']],\n",
    "                     columns= [i for i in ['Negative','Positive',\n",
    "                                               'Slightly Negative',\n",
    "                                              'Slightly Positive']])\n",
    "plt.figure(figsize=(10,10))\n",
    "sns.heatmap(cm_df, annot=True,cmap='Blues',fmt='g')\n",
    "\n",
    "cm = ConfusionMatrix(actual_vector=list(ytest), predict_vector=list(predictions))\n",
    "print('Accuracy Score: ',accuracy_score(predictions,ytest))\n",
    "print('')\n",
    "cm.stat(summary=True)"
   ]
  },
  {
   "cell_type": "markdown",
   "metadata": {},
   "source": [
    "This is an alright start, but lets see if we can change the number of ngrams and the minimum/maximum number of occurances in the TFIDF vectorizer to find the optimal result and prevent overfitting"
   ]
  },
  {
   "cell_type": "code",
   "execution_count": 30,
   "metadata": {},
   "outputs": [],
   "source": [
    "def mindf_test(numbers):\n",
    "    scores = {}\n",
    "    for num in numbers:\n",
    "        text = yelp_data_s['Stemmed:Sentence']\n",
    "        Tvectorizer = TfidfVectorizer(min_df=num)\n",
    "        Tvectorizer.fit(text)\n",
    "        Tvector = Tvectorizer.transform(text)\n",
    "        \n",
    "        voc = Tvectorizer.vocabulary_\n",
    "        df = pd.DataFrame(Tvector.toarray(),columns=voc)\n",
    "\n",
    "        col_name1 ='Name'\n",
    "        col_name2 = 'Review'\n",
    "        col_name3 = 'Polarity'\n",
    "        col_name4 = 'Sentiment'\n",
    "        col_name5 = 'Positive_Words_P'\n",
    "\n",
    "        col1 = yelp_data_s['Name']\n",
    "        col2 = yelp_data_s['Review']\n",
    "        col3 = yelp_data_s['Polarity']\n",
    "        col4 = yelp_data_s['sentiment']\n",
    "        col5 = yelp_data_s['Positive_Words_P']\n",
    "\n",
    "        df.insert(0,col_name1,col1)\n",
    "        df.insert(1,col_name2,col2)\n",
    "        df.insert(2,col_name3,col3)\n",
    "        df.insert(3,col_name4,col4)\n",
    "        df.insert(4,col_name5,col5)\n",
    "        \n",
    "        X = df.iloc[0:,4:]\n",
    "        y = df.Sentiment\n",
    "\n",
    "        Xtrain, Xtest, ytrain, ytest = train_test_split(X,y,random_state=0,test_size=0.3)\n",
    "\n",
    "        clf2 = LogisticRegression(solver = 'lbfgs')\n",
    "        model = Pipeline([('classifier',clf2)])\n",
    "        model.fit(Xtrain, ytrain)\n",
    "        predictions = model.predict(Xtest)\n",
    "        \n",
    "        score = accuracy_score(predictions,ytest)\n",
    "        \n",
    "        scores[num] = score\n",
    "    return scores"
   ]
  },
  {
   "cell_type": "markdown",
   "metadata": {},
   "source": [
    "Now lets create our list of number of minimum occurances. We don't want to set it too low or too high so lets start with 5-50. If we notice the trend moving up or down towards the ends of the curve we can change it but I think this range should capture the most accurate version of the model"
   ]
  },
  {
   "cell_type": "code",
   "execution_count": 31,
   "metadata": {},
   "outputs": [],
   "source": [
    "min_list1 = list(range(5,50))"
   ]
  },
  {
   "cell_type": "code",
   "execution_count": 32,
   "metadata": {},
   "outputs": [],
   "source": [
    "scores_list1 = mindf_test(min_list1)"
   ]
  },
  {
   "cell_type": "code",
   "execution_count": 33,
   "metadata": {},
   "outputs": [
    {
     "data": {
      "image/png": "[encoded data removed]",
      "text/plain": [
       "<Figure size 720x432 with 1 Axes>"
      ]
     },
     "metadata": {
      "needs_background": "light"
     },
     "output_type": "display_data"
    }
   ],
   "source": [
    "x = scores_list1.keys()\n",
    "y = scores_list1.values()\n",
    "plt.figure(figsize=(10,6))\n",
    "plt.plot(x,y)\n",
    "plt.title('Accuracy of Model based on Minimum Word Frequency(5-50)')\n",
    "plt.xlabel('Minimum Number')\n",
    "plt.ylabel('Accuracy Score');"
   ]
  },
  {
   "cell_type": "markdown",
   "metadata": {},
   "source": [
    "Looks like we're getting more accurate as we raise the minumum, let's try some higher values"
   ]
  },
  {
   "cell_type": "code",
   "execution_count": 34,
   "metadata": {},
   "outputs": [],
   "source": [
    "min_list2 = list(range(40,100))\n",
    "scores_list2 = mindf_test(min_list2)"
   ]
  },
  {
   "cell_type": "code",
   "execution_count": 35,
   "metadata": {},
   "outputs": [
    {
     "data": {
      "image/png": "[encoded data removed]",
      "text/plain": [
       "<Figure size 720x432 with 1 Axes>"
      ]
     },
     "metadata": {
      "needs_background": "light"
     },
     "output_type": "display_data"
    }
   ],
   "source": [
    "x = scores_list2.keys()\n",
    "y = scores_list2.values()\n",
    "plt.figure(figsize=(10,6))\n",
    "plt.plot(x,y)\n",
    "plt.title('Accuracy of Model based on Minimum Word Frequency(40-100)')\n",
    "plt.xlabel('Minimum Number')\n",
    "plt.ylabel('Accuracy Score');"
   ]
  },
  {
   "cell_type": "code",
   "execution_count": 83,
   "metadata": {},
   "outputs": [
    {
     "data": {
      "text/plain": [
       "52"
      ]
     },
     "execution_count": 83,
     "metadata": {},
     "output_type": "execute_result"
    }
   ],
   "source": [
    "import operator\n",
    "max(scores_list2.items(), key=operator.itemgetter(1))[0]"
   ]
  },
  {
   "cell_type": "markdown",
   "metadata": {},
   "source": [
    "looks like 52 is our ideal number for minimum frequency"
   ]
  },
  {
   "cell_type": "code",
   "execution_count": 74,
   "metadata": {},
   "outputs": [],
   "source": [
    "def ngrams_test(numbers):\n",
    "    scores = {}\n",
    "    for num in numbers:\n",
    "        text = yelp_data_s['Stemmed:Sentence']\n",
    "        Tvectorizer = TfidfVectorizer(ngram_range=(1,num),min_df=52)\n",
    "        Tvectorizer.fit(text)\n",
    "        Tvector = Tvectorizer.transform(text)\n",
    "        \n",
    "        voc = Tvectorizer.vocabulary_\n",
    "        df = pd.DataFrame(Tvector.toarray(),columns=voc)\n",
    "\n",
    "        col_name1 ='Name'\n",
    "        col_name2 = 'Review'\n",
    "        col_name3 = 'Polarity'\n",
    "        col_name4 = 'Sentiment'\n",
    "        col_name5 = 'Positive_Words_P'\n",
    "\n",
    "        col1 = yelp_data_s['Name']\n",
    "        col2 = yelp_data_s['Review']\n",
    "        col3 = yelp_data_s['Polarity']\n",
    "        col4 = yelp_data_s['sentiment']\n",
    "        col5 = yelp_data_s['Positive_Words_P']\n",
    "\n",
    "        df.insert(0,col_name1,col1)\n",
    "        df.insert(1,col_name2,col2)\n",
    "        df.insert(2,col_name3,col3)\n",
    "        df.insert(3,col_name4,col4)\n",
    "        df.insert(4,col_name5,col5)\n",
    "        \n",
    "        X = df.iloc[0:,4:]\n",
    "        y = df.Sentiment\n",
    "\n",
    "        Xtrain, Xtest, ytrain, ytest = train_test_split(X,y,random_state=0,test_size=0.3)\n",
    "\n",
    "        clf2 = LogisticRegression(solver = 'lbfgs')\n",
    "        model = Pipeline([('classifier',clf2)])\n",
    "        model.fit(Xtrain, ytrain)\n",
    "        predictions = model.predict(Xtest)\n",
    "        \n",
    "        score = accuracy_score(predictions,ytest)\n",
    "        \n",
    "        scores[num] = score\n",
    "    return scores"
   ]
  },
  {
   "cell_type": "code",
   "execution_count": 78,
   "metadata": {},
   "outputs": [],
   "source": [
    "ngram_list = [1,2,3,4]\n",
    "ngram_scores = ngrams_test(ngram_list)"
   ]
  },
  {
   "cell_type": "code",
   "execution_count": 90,
   "metadata": {},
   "outputs": [
    {
     "data": {
      "text/plain": [
       "Text(0, 0.5, 'Accuracy Score')"
      ]
     },
     "execution_count": 90,
     "metadata": {},
     "output_type": "execute_result"
    },
    {
     "data": {
      "image/png": "[encoded data removed]",
      "text/plain": [
       "<Figure size 720x432 with 1 Axes>"
      ]
     },
     "metadata": {
      "needs_background": "light"
     },
     "output_type": "display_data"
    }
   ],
   "source": [
    "x = ngram_scores.keys()\n",
    "y = ngram_scores.values()\n",
    "plt.figure(figsize=(10,6))\n",
    "plt.plot(x,y)\n",
    "plt.title('Accuracy of Model based on Number of ngrams (1-4)')\n",
    "plt.xlabel('Number of ngrams')\n",
    "plt.ylabel('Accuracy Score')"
   ]
  },
  {
   "cell_type": "markdown",
   "metadata": {},
   "source": [
    "In this case, our ideal TFIDF output is 2 ngrams with a min_df of 52! Let's create a dataframe to export for modeling"
   ]
  },
  {
   "cell_type": "code",
   "execution_count": 85,
   "metadata": {},
   "outputs": [],
   "source": [
    "text = yelp_data_s['Stemmed:Sentence']\n",
    "Tvectorizer = TfidfVectorizer(min_df=52,ngram_range=(1,2))\n",
    "Tvectorizer.fit(text)\n",
    "Tvector = Tvectorizer.transform(text)\n",
    "\n",
    "voc = Tvectorizer.vocabulary_\n",
    "df = pd.DataFrame(Tvector.toarray(),columns=voc)\n",
    "\n",
    "col_name1 ='Name'\n",
    "col_name2 = 'Review'\n",
    "col_name3 = 'Polarity'\n",
    "col_name4 = 'Sentiment'\n",
    "col_name5 = 'Positive_Words_P'\n",
    "\n",
    "col1 = yelp_data_s['Name']\n",
    "col2 = yelp_data_s['Review']\n",
    "col3 = yelp_data_s['Polarity']\n",
    "col4 = yelp_data_s['sentiment']\n",
    "col5 = yelp_data_s['Positive_Words_P']\n",
    "\n",
    "df.insert(0,col_name1,col1)\n",
    "df.insert(1,col_name2,col2)\n",
    "df.insert(2,col_name3,col3)\n",
    "df.insert(3,col_name4,col4)\n",
    "df.insert(4,col_name5,col5)"
   ]
  },
  {
   "cell_type": "code",
   "execution_count": 87,
   "metadata": {},
   "outputs": [
    {
     "data": {
      "text/html": [
       "<div>\n",
       "<style scoped>\n",
       "    .dataframe tbody tr th:only-of-type {\n",
       "        vertical-align: middle;\n",
       "    }\n",
       "\n",
       "    .dataframe tbody tr th {\n",
       "        vertical-align: top;\n",
       "    }\n",
       "\n",
       "    .dataframe thead th {\n",
       "        text-align: right;\n",
       "    }\n",
       "</style>\n",
       "<table border=\"1\" class=\"dataframe\">\n",
       "  <thead>\n",
       "    <tr style=\"text-align: right;\">\n",
       "      <th></th>\n",
       "      <th>Name</th>\n",
       "      <th>Review</th>\n",
       "      <th>Polarity</th>\n",
       "      <th>Sentiment</th>\n",
       "      <th>Positive_Words_P</th>\n",
       "      <th>chocol</th>\n",
       "      <th>cup</th>\n",
       "      <th>amaz</th>\n",
       "      <th>eat</th>\n",
       "      <th>year</th>\n",
       "      <th>...</th>\n",
       "      <th>linguin</th>\n",
       "      <th>linguini</th>\n",
       "      <th>jimmi</th>\n",
       "      <th>player</th>\n",
       "      <th>juliana</th>\n",
       "      <th>pool tabl</th>\n",
       "      <th>castl</th>\n",
       "      <th>falafel</th>\n",
       "      <th>paella</th>\n",
       "      <th>white castl</th>\n",
       "    </tr>\n",
       "  </thead>\n",
       "  <tbody>\n",
       "    <tr>\n",
       "      <th>0</th>\n",
       "      <td>Morris Park Bake Shop</td>\n",
       "      <td>'The chocolate cups are amazing! Have been eat...</td>\n",
       "      <td>0.500000</td>\n",
       "      <td>Positive</td>\n",
       "      <td>0.222222</td>\n",
       "      <td>0.0</td>\n",
       "      <td>0.0</td>\n",
       "      <td>0.0</td>\n",
       "      <td>0.0</td>\n",
       "      <td>0.000000</td>\n",
       "      <td>...</td>\n",
       "      <td>0.0</td>\n",
       "      <td>0.0</td>\n",
       "      <td>0.0</td>\n",
       "      <td>0.0</td>\n",
       "      <td>0.0</td>\n",
       "      <td>0.0</td>\n",
       "      <td>0.000000</td>\n",
       "      <td>0.0</td>\n",
       "      <td>0.0</td>\n",
       "      <td>0.0</td>\n",
       "    </tr>\n",
       "    <tr>\n",
       "      <th>1</th>\n",
       "      <td>Morris Park Bake Shop</td>\n",
       "      <td>'Morris Park Bake Shop has become my go to spo...</td>\n",
       "      <td>0.338889</td>\n",
       "      <td>Slightly Positive</td>\n",
       "      <td>0.206897</td>\n",
       "      <td>0.0</td>\n",
       "      <td>0.0</td>\n",
       "      <td>0.0</td>\n",
       "      <td>0.0</td>\n",
       "      <td>0.000000</td>\n",
       "      <td>...</td>\n",
       "      <td>0.0</td>\n",
       "      <td>0.0</td>\n",
       "      <td>0.0</td>\n",
       "      <td>0.0</td>\n",
       "      <td>0.0</td>\n",
       "      <td>0.0</td>\n",
       "      <td>0.000000</td>\n",
       "      <td>0.0</td>\n",
       "      <td>0.0</td>\n",
       "      <td>0.0</td>\n",
       "    </tr>\n",
       "    <tr>\n",
       "      <th>2</th>\n",
       "      <td>Morris Park Bake Shop</td>\n",
       "      <td>'I thought the cookies and biscotti were prett...</td>\n",
       "      <td>0.314583</td>\n",
       "      <td>Slightly Positive</td>\n",
       "      <td>0.130435</td>\n",
       "      <td>0.0</td>\n",
       "      <td>0.0</td>\n",
       "      <td>0.0</td>\n",
       "      <td>0.0</td>\n",
       "      <td>0.160339</td>\n",
       "      <td>...</td>\n",
       "      <td>0.0</td>\n",
       "      <td>0.0</td>\n",
       "      <td>0.0</td>\n",
       "      <td>0.0</td>\n",
       "      <td>0.0</td>\n",
       "      <td>0.0</td>\n",
       "      <td>0.000000</td>\n",
       "      <td>0.0</td>\n",
       "      <td>0.0</td>\n",
       "      <td>0.0</td>\n",
       "    </tr>\n",
       "    <tr>\n",
       "      <th>3</th>\n",
       "      <td>Morris Park Bake Shop</td>\n",
       "      <td>'Guys.... so Im a big time biscotti connoisseu...</td>\n",
       "      <td>0.238068</td>\n",
       "      <td>Slightly Positive</td>\n",
       "      <td>0.127660</td>\n",
       "      <td>0.0</td>\n",
       "      <td>0.0</td>\n",
       "      <td>0.0</td>\n",
       "      <td>0.0</td>\n",
       "      <td>0.000000</td>\n",
       "      <td>...</td>\n",
       "      <td>0.0</td>\n",
       "      <td>0.0</td>\n",
       "      <td>0.0</td>\n",
       "      <td>0.0</td>\n",
       "      <td>0.0</td>\n",
       "      <td>0.0</td>\n",
       "      <td>0.149255</td>\n",
       "      <td>0.0</td>\n",
       "      <td>0.0</td>\n",
       "      <td>0.0</td>\n",
       "    </tr>\n",
       "    <tr>\n",
       "      <th>4</th>\n",
       "      <td>Morris Park Bake Shop</td>\n",
       "      <td>'I had a craving for a special type of cake wi...</td>\n",
       "      <td>0.314643</td>\n",
       "      <td>Slightly Positive</td>\n",
       "      <td>0.218750</td>\n",
       "      <td>0.0</td>\n",
       "      <td>0.0</td>\n",
       "      <td>0.0</td>\n",
       "      <td>0.0</td>\n",
       "      <td>0.000000</td>\n",
       "      <td>...</td>\n",
       "      <td>0.0</td>\n",
       "      <td>0.0</td>\n",
       "      <td>0.0</td>\n",
       "      <td>0.0</td>\n",
       "      <td>0.0</td>\n",
       "      <td>0.0</td>\n",
       "      <td>0.000000</td>\n",
       "      <td>0.0</td>\n",
       "      <td>0.0</td>\n",
       "      <td>0.0</td>\n",
       "    </tr>\n",
       "  </tbody>\n",
       "</table>\n",
       "<p>5 rows × 1761 columns</p>\n",
       "</div>"
      ],
      "text/plain": [
       "                    Name                                             Review  \\\n",
       "0  Morris Park Bake Shop  'The chocolate cups are amazing! Have been eat...   \n",
       "1  Morris Park Bake Shop  'Morris Park Bake Shop has become my go to spo...   \n",
       "2  Morris Park Bake Shop  'I thought the cookies and biscotti were prett...   \n",
       "3  Morris Park Bake Shop  'Guys.... so Im a big time biscotti connoisseu...   \n",
       "4  Morris Park Bake Shop  'I had a craving for a special type of cake wi...   \n",
       "\n",
       "   Polarity          Sentiment  Positive_Words_P  chocol  cup  amaz  eat  \\\n",
       "0  0.500000           Positive          0.222222     0.0  0.0   0.0  0.0   \n",
       "1  0.338889  Slightly Positive          0.206897     0.0  0.0   0.0  0.0   \n",
       "2  0.314583  Slightly Positive          0.130435     0.0  0.0   0.0  0.0   \n",
       "3  0.238068  Slightly Positive          0.127660     0.0  0.0   0.0  0.0   \n",
       "4  0.314643  Slightly Positive          0.218750     0.0  0.0   0.0  0.0   \n",
       "\n",
       "       year  ...  linguin  linguini  jimmi  player  juliana  pool tabl  \\\n",
       "0  0.000000  ...      0.0       0.0    0.0     0.0      0.0        0.0   \n",
       "1  0.000000  ...      0.0       0.0    0.0     0.0      0.0        0.0   \n",
       "2  0.160339  ...      0.0       0.0    0.0     0.0      0.0        0.0   \n",
       "3  0.000000  ...      0.0       0.0    0.0     0.0      0.0        0.0   \n",
       "4  0.000000  ...      0.0       0.0    0.0     0.0      0.0        0.0   \n",
       "\n",
       "      castl  falafel  paella  white castl  \n",
       "0  0.000000      0.0     0.0          0.0  \n",
       "1  0.000000      0.0     0.0          0.0  \n",
       "2  0.000000      0.0     0.0          0.0  \n",
       "3  0.149255      0.0     0.0          0.0  \n",
       "4  0.000000      0.0     0.0          0.0  \n",
       "\n",
       "[5 rows x 1761 columns]"
      ]
     },
     "execution_count": 87,
     "metadata": {},
     "output_type": "execute_result"
    }
   ],
   "source": [
    "df.head()"
   ]
  },
  {
   "cell_type": "markdown",
   "metadata": {},
   "source": [
    "## Conclusion"
   ]
  },
  {
   "cell_type": "markdown",
   "metadata": {},
   "source": [
    "As you can see, with just a simple model we're off to a decent start at around 70% accuracy. Once we take these features and apply them to a better model and experiment with number of ngrams and all things like that we should see much better performance!\n",
    "\n",
    "In the next notebook, we're finally going to build our model which we'll need to first decide which model to use and how to improve on it."
   ]
  },
  {
   "cell_type": "code",
   "execution_count": 88,
   "metadata": {},
   "outputs": [],
   "source": [
    "df.to_csv(r'yelp_data_sentiment.csv',index=False)"
   ]
  }
 ],
 "metadata": {
  "kernelspec": {
   "display_name": "Python 3",
   "language": "python",
   "name": "python3"
  },
  "language_info": {
   "codemirror_mode": {
    "name": "ipython",
    "version": 3
   },
   "file_extension": ".py",
   "mimetype": "text/x-python",
   "name": "python",
   "nbconvert_exporter": "python",
   "pygments_lexer": "ipython3",
   "version": "3.7.6"
  }
 },
 "nbformat": 4,
 "nbformat_minor": 4
}
